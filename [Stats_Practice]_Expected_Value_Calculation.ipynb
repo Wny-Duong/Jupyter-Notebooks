{
  "nbformat": 4,
  "nbformat_minor": 0,
  "metadata": {
    "colab": {
      "name": "[Stats Practice] Expected Value Calculation",
      "provenance": [],
      "collapsed_sections": []
    },
    "kernelspec": {
      "name": "python3",
      "display_name": "Python 3"
    }
  },
  "cells": [
    {
      "cell_type": "code",
      "metadata": {
        "id": "T-ii3hFcOMoX"
      },
      "source": [
        "#HW1 Expect\n",
        "def expect(xDistribution, function):    \n",
        "##################################################\n",
        "#\t\tYour code here\n",
        "  #working_dict = xDistribution.values()\n",
        "  expect = 0\n",
        "  #dict_length = xDistribution.len()\n",
        "  for i in xDistribution:\n",
        "    expect += (function(i) * xDistribution[i])\n",
        "      #formula of expectation takes thep robability of the event\n",
        "      #and event event value products and sums tem all together for the length\n",
        "      #of the sequence\n",
        "      #this should be the expect value\n",
        "##################################################  \n",
        "  return expect"
      ],
      "execution_count": null,
      "outputs": []
    },
    {
      "cell_type": "code",
      "metadata": {
        "id": "GAbDXK5SFjVO"
      },
      "source": [
        "#HW1 Get Variance\n",
        "##################################################\n",
        "#\t\tYour code below each comment\n",
        "##################################################  \n",
        "def getVariance(xDistribution):\n",
        "#Step 1 - Calculate the expected value E(X)\n",
        "  retrieve_x = lambda x: x\n",
        "  \n",
        "  def getSquaredDistanceToMu(x):\n",
        "  #Step 2 - Calculate (X-E(X))^2\n",
        "    squared_distance = (x - expect(xDistribution, retrieve_x))**2\n",
        "    return squared_distance\n",
        "\n",
        "#Step 3 - Calculate Variance: Var(X)=E((X-E(X))^2)\n",
        "  variance_helper_function = lambda x: getSquaredDistanceToMu(x)\n",
        "  variance = expect(xDistribution, variance_helper_function)\n",
        "  return variance\n"
      ],
      "execution_count": null,
      "outputs": []
    },
    {
      "cell_type": "code",
      "metadata": {
        "id": "adA83p4kiilZ"
      },
      "source": [
        "#hw2 expect\n",
        "def expect(xDistribution, function):    \n",
        "##################################################\n",
        "#\t\tYour code here\n",
        "  #working_dict = xDistribution.values()\n",
        "  expect = 0\n",
        "  #dict_length = xDistribution.len()\n",
        "  for i in xDistribution:\n",
        "    expect += (function(i) * xDistribution[i])\n",
        "      #formula of expectation takes thep robability of the event\n",
        "      #and event event value products and sums tem all together for the length\n",
        "      #of the sequence\n",
        "      #this should be the expect value\n",
        "##################################################  \n",
        "  return expect"
      ],
      "execution_count": null,
      "outputs": []
    },
    {
      "cell_type": "code",
      "metadata": {
        "id": "SzbhBR_lOp67",
        "colab": {
          "base_uri": "https://localhost:8080/",
          "height": 34
        },
        "outputId": "c1106652-55ef-4d1c-9194-a3ea216e6f1a"
      },
      "source": [
        "#Expect test: Calculation Of Current State\n",
        "basic_return = lambda x: x\n",
        "expect({0:0.125, 1:0.25, 2:0.0625, 3:0.0625, 4:0.25, 5:0.25}, basic_return)"
      ],
      "execution_count": null,
      "outputs": [
        {
          "output_type": "execute_result",
          "data": {
            "text/plain": [
              "2.8125"
            ]
          },
          "metadata": {
            "tags": []
          },
          "execution_count": 10
        }
      ]
    },
    {
      "cell_type": "code",
      "metadata": {
        "id": "QF3nz5Dw0hAb",
        "colab": {
          "base_uri": "https://localhost:8080/",
          "height": 70
        },
        "outputId": "162d6e32-10f8-456b-cf5b-ee8f8b6bf073"
      },
      "source": [
        "    s0Distribution={0:0.125, 1:0.25, 2:0.0625, 3:0.0625, 4:0.25, 5:0.25}\n",
        "    utilityTable={0:2000, 1:-500, 2:100, 3:1000, 4:0, 5:-5000}\n",
        "    #{s0:{a:{s':p}}}, p is the probability of the event (Start from s0, take action a, end up at s')\n",
        "    transitionTable={0:{0:{0:1,1:0,2:0,3:0,4:0,5:0},\\\n",
        "                        1:{0:0.05,1:0.9,2:0.05,3:0,4:0,5:0},\\\n",
        "                        2:{0:0,1:0.05,2:0.9,3:0.05,4:0,5:0},\\\n",
        "                        3:{0:0,1:0,2:0.05,3:0.9,4:0.05,5:0},\\\n",
        "                        4:{0:0,1:0,2:0,3:0.05,4:0.9,5:0.05},\\\n",
        "                        5:{0:0.05,1:0,2:0,3:0,4:0.05,5:0.9}},\\\n",
        "                    1:{0:{0:0,1:1,2:0,3:0,4:0,5:0},\\\n",
        "                        1:{0:0,1:0.05,2:0.9,3:0.05,4:0,5:0},\\\n",
        "                        2:{0:0,1:0,2:0.05,3:0.9,4:0.05,5:0},\\\n",
        "                        3:{0:0,1:0,2:0,3:0.05,4:0.9,5:0.05},\\\n",
        "                        4:{0:0.05,1:0,2:0,3:0,4:0.05,5:0.9},\\\n",
        "                        5:{0:0.9,1:0.05,2:0,3:0,4:0,5:0.05}},\\\n",
        "                    2:{0:{0:0,1:0,2:1,3:0,4:0,5:0},\\\n",
        "                        1:{0:0,1:0,2:0.05,3:0.9,4:0.05,5:0},\\\n",
        "                        2:{0:0,1:0,2:0,3:0.05,4:0.9,5:0.05},\\\n",
        "                        3:{0:0.05,1:0,2:0,3:0,4:0.05,5:0.9},\\\n",
        "                        4:{0:0.9,1:0.05,2:0,3:0,4:0,5:0.05},\\\n",
        "                        5:{0:0.05,1:0.9,2:0.05,3:0,4:0,5:0}},\\\n",
        "                    3:{0:{0:0,1:0,2:0,3:1,4:0,5:0},\\\n",
        "                        1:{0:0,1:0,2:0,3:0.05,4:0.9,5:0.05},\\\n",
        "                        2:{0:0.05,1:0,2:0,3:0,4:0.05,5:0.9},\\\n",
        "                        3:{0:0.9,1:0.05,2:0,3:0,4:0,5:0.05},\\\n",
        "                        4:{0:0.05,1:0.9,2:0.05,3:0,4:0,5:0},\\\n",
        "                        5:{0:0,1:0.05,2:0.9,3:0.05,4:0,5:0}},\\\n",
        "                    4:{0:{0:0,1:0,2:0,3:0,4:1,5:0},\\\n",
        "                        1:{0:0.05,1:0,2:0,3:0,4:0.05,5:0.9},\\\n",
        "                        2:{0:0.9,1:0.05,2:0,3:0,4:0,5:0.05},\\\n",
        "                        3:{0:0.05,1:0.9,2:0.05,3:0,4:0,5:0},\\\n",
        "                        4:{0:0,1:0.05,2:0.9,3:0.05,4:0,5:0},\\\n",
        "                        5:{0:0,1:0,2:0.05,3:0.9,4:0.05,5:0}},\\\n",
        "                    5:{0:{0:0,1:0,2:0,3:0,4:0,5:1},\\\n",
        "                        1:{0:0.9,1:0.05,2:0,3:0,4:0,5:0.05},\\\n",
        "                        2:{0:0.05,1:0.9,2:0.05,3:0,4:0,5:0},\\\n",
        "                        3:{0:0,1:0.05,2:0.9,3:0.05,4:0,5:0},\\\n",
        "                        4:{0:0,1:0,2:0.05,3:0.9,4:0.05,5:0},\\\n",
        "                        5:{0:0,1:0,2:0,3:0.05,4:0.9,5:0.05}}}\n",
        "    possibleAction=[0,1,2,3,4,5]\n",
        "    possibleSPrime=[0,1,2,3,4,5]\n",
        "\n",
        "    print(transitionTable[1][3])\n",
        "    print(s0Distribution[1])\n",
        "    expect(transitionTable[1][3], lambda x: x * s0Distribution[1]) "
      ],
      "execution_count": null,
      "outputs": [
        {
          "output_type": "stream",
          "text": [
            "{0: 0, 1: 0, 2: 0, 3: 0.05, 4: 0.9, 5: 0.05}\n",
            "0.25\n"
          ],
          "name": "stdout"
        },
        {
          "output_type": "execute_result",
          "data": {
            "text/plain": [
              "1.0"
            ]
          },
          "metadata": {
            "tags": []
          },
          "execution_count": 5
        }
      ]
    },
    {
      "cell_type": "code",
      "metadata": {
        "id": "MEBopyUDii2u"
      },
      "source": [
        "def getSPrimeProbability(sPrime, action, s0Distribution, transitionTable):\n",
        "##################################################\n",
        "#\t\tYour code here\n",
        "#   Given: Taken action, desired sPrime (next state), s0Distribution of current states, transitionTable values.\n",
        "#   Found:  Our expected current state.\n",
        "#   Attempt: Use our expected current state to navigate the dictionary of dictionary of dictionaries.\n",
        "#   Goal: Probability of youending up in the state of sPrime given your action\n",
        "# multiple transitiontable [][] by s0distribution entries\n",
        "#Given the ring of probabilities adding to one seen in the homework, preresents the Probability | e\n",
        "#We are trying to do this; P(S' | a)\n",
        "#Starting state doesn't matter; Expected utility, what we care about is the next state only.\n",
        "#Mathematical expression: Summation of P(s|e)P(Result(s,a) = s' | a)\n",
        "#s has 6 states, S = 0, P(0)/0.1 P(result(0,2) = 5| 2)\n",
        "  #basic_return = lambda x: 1\n",
        "  state_probabilities = {}\n",
        "  sPrime_probability = 0\n",
        "  for i in s0Distribution:\n",
        "      state_probabilities[i] = s0Distribution[i] * transitionTable[i][action][sPrime]\n",
        "  for j in state_probabilities:\n",
        "    sPrime_probability += state_probabilities[j]\n",
        "  #sPrime_probability = expect(state_probabilities, basic_return)\n",
        "##################################################  \n",
        "  #Should return the summation of products of transitionTable[given_possible_states][given_action][given_next_states] \n",
        "  # and s0Distribution[given_possible_states]\n",
        "  return sPrime_probability\n"
      ],
      "execution_count": null,
      "outputs": []
    },
    {
      "cell_type": "code",
      "metadata": {
        "id": "h8HHv4D_ii0R"
      },
      "source": [
        "def getEU(action, sPrimeDistributionGivenAction, utilityTable):\n",
        "\n",
        "##################################################\n",
        "#\t\tYour code here\n",
        "#     Use expect\n",
        "#       Given: \n",
        "#      (1) action \n",
        "#      (2) sPrimeDistributionGivenAction - a dictionary containing \n",
        "#          the probability distribution of  next state given action \n",
        "#          Keys = possible next states; Values = Probability of state given action\n",
        "#      (3) utilityTable - a dictionary representing the utility of each state. \n",
        "#            keys: possible states.  values: corresponding utility.\n",
        "#      (4)  The return: expected utility of a certain action.\n",
        "# Found: Expected next state to plug into sPrimeDistribution (expected_next_state)\n",
        "# Attempt: Use expected next state in order to calculate its utility (getting utility of the expected next_state is the same thing as the expected utility of the next state.)\n",
        "# Goal: Expected utility value of an action (dictionary value) from utilityTable\n",
        "#  based upon the state landed upon through action taken (expected_next_state).\n",
        "  #basic_return = lambda x: 1\n",
        "  eu_over_states = {}\n",
        "  basic_return = lambda x: x\n",
        "  eu_value = 0\n",
        "  for i in utilityTable:\n",
        "    eu_over_states[i] = sPrimeDistributionGivenAction[i]*utilityTable[i]\n",
        "  for j in eu_over_states:\n",
        "    eu_value += eu_over_states[j]\n",
        "  #eu_value = expect(eu_over_states, basic_return)\n",
        "##################################################  \n",
        "    \n",
        "  return eu_value\n",
        "\n"
      ],
      "execution_count": null,
      "outputs": []
    },
    {
      "cell_type": "code",
      "metadata": {
        "id": "zncYUGb8iiwp",
        "colab": {
          "base_uri": "https://localhost:8080/",
          "height": 798
        },
        "outputId": "acaeaba7-5627-4a29-ccd5-9212e5ba973f"
      },
      "source": [
        "#HW2 Main\n",
        "#############################################\n",
        "###   Complete the main function below\n",
        "#############################################   \n",
        "def main():\n",
        "#P(S0 |e)\n",
        "    s0Distribution={0:0.125, 1:0.25, 2:0.0625, 3:0.0625, 4:0.25, 5:0.25}\n",
        "    utilityTable={0:2000, 1:-500, 2:100, 3:1000, 4:0, 5:-5000}\n",
        "    #{s0:{a:{s':p}}}, p is the probability of the event (Start from s0, take action a, end up at s')\n",
        "    transitionTable={0:{0:{0:1,1:0,2:0,3:0,4:0,5:0},\\\n",
        "                        1:{0:0.05,1:0.9,2:0.05,3:0,4:0,5:0},\\\n",
        "                        2:{0:0,1:0.05,2:0.9,3:0.05,4:0,5:0},\\\n",
        "                        3:{0:0,1:0,2:0.05,3:0.9,4:0.05,5:0},\\\n",
        "                        4:{0:0,1:0,2:0,3:0.05,4:0.9,5:0.05},\\\n",
        "                        5:{0:0.05,1:0,2:0,3:0,4:0.05,5:0.9}},\\\n",
        "                    1:{0:{0:0,1:1,2:0,3:0,4:0,5:0},\\\n",
        "                        1:{0:0,1:0.05,2:0.9,3:0.05,4:0,5:0},\\\n",
        "                        2:{0:0,1:0,2:0.05,3:0.9,4:0.05,5:0},\\\n",
        "                        3:{0:0,1:0,2:0,3:0.05,4:0.9,5:0.05},\\\n",
        "                        4:{0:0.05,1:0,2:0,3:0,4:0.05,5:0.9},\\\n",
        "                        5:{0:0.9,1:0.05,2:0,3:0,4:0,5:0.05}},\\\n",
        "                    2:{0:{0:0,1:0,2:1,3:0,4:0,5:0},\\\n",
        "                        1:{0:0,1:0,2:0.05,3:0.9,4:0.05,5:0},\\\n",
        "                        2:{0:0,1:0,2:0,3:0.05,4:0.9,5:0.05},\\\n",
        "                        3:{0:0.05,1:0,2:0,3:0,4:0.05,5:0.9},\\\n",
        "                        4:{0:0.9,1:0.05,2:0,3:0,4:0,5:0.05},\\\n",
        "                        5:{0:0.05,1:0.9,2:0.05,3:0,4:0,5:0}},\\\n",
        "                    3:{0:{0:0,1:0,2:0,3:1,4:0,5:0},\\\n",
        "                        1:{0:0,1:0,2:0,3:0.05,4:0.9,5:0.05},\\\n",
        "                        2:{0:0.05,1:0,2:0,3:0,4:0.05,5:0.9},\\\n",
        "                        3:{0:0.9,1:0.05,2:0,3:0,4:0,5:0.05},\\\n",
        "                        4:{0:0.05,1:0.9,2:0.05,3:0,4:0,5:0},\\\n",
        "                        5:{0:0,1:0.05,2:0.9,3:0.05,4:0,5:0}},\\\n",
        "                    4:{0:{0:0,1:0,2:0,3:0,4:1,5:0},\\\n",
        "                        1:{0:0.05,1:0,2:0,3:0,4:0.05,5:0.9},\\\n",
        "                        2:{0:0.9,1:0.05,2:0,3:0,4:0,5:0.05},\\\n",
        "                        3:{0:0.05,1:0.9,2:0.05,3:0,4:0,5:0},\\\n",
        "                        4:{0:0,1:0.05,2:0.9,3:0.05,4:0,5:0},\\\n",
        "                        5:{0:0,1:0,2:0.05,3:0.9,4:0.05,5:0}},\\\n",
        "                    5:{0:{0:0,1:0,2:0,3:0,4:0,5:1},\\\n",
        "                        1:{0:0.9,1:0.05,2:0,3:0,4:0,5:0.05},\\\n",
        "                        2:{0:0.05,1:0.9,2:0.05,3:0,4:0,5:0},\\\n",
        "                        3:{0:0,1:0.05,2:0.9,3:0.05,4:0,5:0},\\\n",
        "                        4:{0:0,1:0,2:0.05,3:0.9,4:0.05,5:0},\\\n",
        "                        5:{0:0,1:0,2:0,3:0.05,4:0.9,5:0.05}}}\n",
        "    possibleAction=[0,1,2,3,4,5]\n",
        "    possibleSPrime=[0,1,2,3,4,5]\n",
        "    ##################################################\n",
        "    #\t\tYour code below\n",
        "    ##################################################  \n",
        "    #actionS’Dist = {a:getS’Dist(a, e, result) for a in actions}\n",
        "    #actionEU = {a:expect(U, actionS’Dist[a] for a in actions}\n",
        "    #rationalAction = argmax(actionEU)\n",
        "    sPrimeDistribution={}\n",
        "    state_probabilities_list = {}\n",
        "    EU={}\n",
        "    utilitiesList = {}\n",
        "    #Creating a list of SPrime distributions actions: state: probabilities\n",
        "    for i in possibleAction:\n",
        "      for j in possibleSPrime:\n",
        "        state_probabilities_list[j] = getSPrimeProbability(possibleSPrime[j], possibleAction[i], s0Distribution, transitionTable) \n",
        "      sPrimeDistribution[i] = state_probabilities_list\n",
        "      state_probabilities_list = {}\n",
        "    #getEU(action, sPrimeDistribution, utilityTable)\n",
        "    #For all possible actions\n",
        "    #Fill a list of utility values (dictionary: Actions: Utility Value)\n",
        "    for k in possibleAction:\n",
        "      #For an action k, get the expected utility from action k and the sPrime distribution given action k\n",
        "      utilitiesList[k] = getEU(possibleAction[k], sPrimeDistribution[k], utilityTable)\n",
        "    EU = utilitiesList\n",
        "    ##################################################\n",
        "    #\t\tYour code above\n",
        "    ################################################## \n",
        "    answer_key =  {0: -1056.25, 1:-689.0624999999999, 2: 248.12499999999994, 3: -174.06250000000003, 4: -796.25, 5: -6.875}\n",
        "    import pprint as ppt\n",
        "    print(\"base utility table:\")\n",
        "    print(utilityTable)\n",
        "    print(\"answer key: \")\n",
        "    print(answer_key)\n",
        "    print(\"EU: \")\n",
        "    print(EU)\n",
        "    print( getSPrimeProbability(possibleSPrime[1], possibleAction[0], s0Distribution, transitionTable) )\n",
        "    print(\"sPrimeDistribution: \")\n",
        "    ppt.pprint(sPrimeDistribution, width = 1)\n",
        "\n",
        "if __name__ == '__main__':\n",
        "    main()"
      ],
      "execution_count": null,
      "outputs": [
        {
          "output_type": "stream",
          "text": [
            "base utility table:\n",
            "{0: 2000, 1: -500, 2: 100, 3: 1000, 4: 0, 5: -5000}\n",
            "answer key: \n",
            "{0: -1056.25, 1: -689.0624999999999, 2: 248.12499999999994, 3: -174.06250000000003, 4: -796.25, 5: -6.875}\n",
            "EU: \n",
            "{0: -1056.25, 1: -689.0624999999999, 2: 248.12499999999994, 3: -174.06250000000003, 4: -796.25, 5: -6.875}\n",
            "0.25\n",
            "sPrimeDistribution: \n",
            "{0: {0: 0.125,\n",
            "     1: 0.25,\n",
            "     2: 0.0625,\n",
            "     3: 0.0625,\n",
            "     4: 0.25,\n",
            "     5: 0.25},\n",
            " 1: {0: 0.24375000000000002,\n",
            "     1: 0.1375,\n",
            "     2: 0.234375,\n",
            "     3: 0.07187500000000001,\n",
            "     4: 0.07187500000000001,\n",
            "     5: 0.240625},\n",
            " 2: {0: 0.240625,\n",
            "     1: 0.24375000000000002,\n",
            "     2: 0.1375,\n",
            "     3: 0.234375,\n",
            "     4: 0.07187500000000001,\n",
            "     5: 0.07187500000000001},\n",
            " 3: {0: 0.07187500000000001,\n",
            "     1: 0.240625,\n",
            "     2: 0.24375000000000002,\n",
            "     3: 0.1375,\n",
            "     4: 0.234375,\n",
            "     5: 0.07187500000000001},\n",
            " 4: {0: 0.07187500000000001,\n",
            "     1: 0.07187500000000001,\n",
            "     2: 0.240625,\n",
            "     3: 0.24375000000000002,\n",
            "     4: 0.1375,\n",
            "     5: 0.234375},\n",
            " 5: {0: 0.234375,\n",
            "     1: 0.07187500000000001,\n",
            "     2: 0.07187500000000001,\n",
            "     3: 0.240625,\n",
            "     4: 0.24375000000000002,\n",
            "     5: 0.1375}}\n"
          ],
          "name": "stdout"
        }
      ]
    },
    {
      "cell_type": "code",
      "metadata": {
        "id": "pp6vr8nAOQ_-",
        "colab": {
          "base_uri": "https://localhost:8080/",
          "height": 87
        },
        "outputId": "62c15e9a-e9f2-47e0-f784-22389d221266"
      },
      "source": [
        "#HW1 Legacy Main\n",
        "def main():\n",
        "    xDistributionExample1={1: 1/5, 2: 2/5, 3: 2/5}\n",
        "    functionExample1=lambda x: x ** 2\n",
        "    print(expect(xDistributionExample1, functionExample1))\n",
        "    \n",
        "    xDistributionExample2={1: 1/6, -1/2: 1/3, 1/3: 1/4, -1/4: 1/12, 1/5: 1/6}\n",
        "    functionExample2=lambda x: 1/x\n",
        "    print(expect(xDistributionExample2, functionExample2))\n",
        "    print(getVariance(xDistributionExample1))\n",
        "    print(getVariance(xDistributionExample2))\n",
        "\n",
        "if __name__ == '__main__':\n",
        "    main()\n"
      ],
      "execution_count": null,
      "outputs": [
        {
          "output_type": "stream",
          "text": [
            "5.4\n",
            "0.75\n",
            "0.56\n",
            "0.28046874999999993\n"
          ],
          "name": "stdout"
        }
      ]
    }
  ]
}