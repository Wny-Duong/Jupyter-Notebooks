{
  "nbformat": 4,
  "nbformat_minor": 0,
  "metadata": {
    "kernelspec": {
      "name": "python3",
      "display_name": "Python 3"
    },
    "language_info": {
      "codemirror_mode": {
        "name": "ipython",
        "version": 3
      },
      "file_extension": ".py",
      "mimetype": "text/x-python",
      "name": "python",
      "nbconvert_exporter": "python",
      "pygments_lexer": "ipython3",
      "version": "3.7.4"
    },
    "colab": {
      "name": "[Data Science Practice] Medical Dataset Exploration and Clasification",
      "provenance": [],
      "collapsed_sections": [
        "aQ260chbUGd_"
      ],
      "toc_visible": true
    },
    "accelerator": "GPU"
  },
  "cells": [
    {
      "cell_type": "markdown",
      "metadata": {
        "id": "twVRMD9oUGbr"
      },
      "source": [
        "# Class Project - Binary Classification Comparative Methods"
      ]
    },
    {
      "cell_type": "markdown",
      "metadata": {
        "id": "62sOYyVyUGb2"
      },
      "source": [
        "For this project we're going to attempt a binary classification of a dataset using multiple methods and compare results. \n",
        "\n",
        "Our goals for this project will be to introduce you to several of the most common classification techniques, how to perform them and tweek parameters to optimize outcomes, how to produce and interpret results, and compare performance. You will be asked to analyze your findings and provide explanations for observed performance. \n",
        "\n",
        "Specifically you will be asked to classify whether a <b>patient is suffering from heart disease</b> based on a host of potential medical factors.\n",
        "\n",
        "<b><u>DEFINITIONS</b></u>\n",
        "\n",
        "\n",
        "<b> Binary Classification:</b>\n",
        "In this case a complex dataset has an added 'target' label with one of two options. Your learning algorithm will try to assign one of these labels to the data.\n",
        "\n",
        "<b> Supervised Learning:</b>\n",
        "This data is fully supervised, which means it's been fully labeled and we can trust the veracity of the labeling."
      ]
    },
    {
      "cell_type": "markdown",
      "metadata": {
        "id": "xHzWm4wZUGb4"
      },
      "source": [
        "## Background: The Dataset "
      ]
    },
    {
      "cell_type": "markdown",
      "metadata": {
        "id": "HF58GMD4UGb7"
      },
      "source": [
        "For this exercise we will be using a subset of the UCI Heart Disease dataset, leveraging the fourteen most commonly used attributes. All identifying information about the patient has been scrubbed. \n",
        "\n",
        "The dataset includes 14 columns. The information provided by each column is as follows:\n",
        "<ul>\n",
        "    <li><b>age:</b> Age in years</li>\n",
        "    <li><b>sex:</b> (1 = male; 0 = female)</li>\n",
        "    <li><b>cp:</b> Chest pain type (0 = asymptomatic; 1 = atypical angina; 2 = non-anginal pain; 3 = typical angina)</li>\n",
        "    <li><b>trestbps:</b> Resting blood pressure (in mm Hg on admission to the hospital)</li>\n",
        "    <li><b>cholserum:</b> Cholestoral in mg/dl</li>\n",
        "    <li><b>fbs</b> Fasting blood sugar > 120 mg/dl (1 = true; 0 = false)</li>\n",
        "    <li><b>restecg:</b> Resting electrocardiographic results (0= showing probable or definite left ventricular hypertrophy by Estes' criteria; 1 = normal; 2 = having ST-T wave abnormality (T wave inversions and/or ST elevation or depression of > 0.05 mV))</li>\n",
        "    <li><b>thalach:</b> Maximum heart rate achieved</li>\n",
        "    <li><b>exang:</b> Exercise induced angina (1 = yes; 0 = no)</li>\n",
        "    <li><b>oldpeakST:</b> Depression induced by exercise relative to rest</li>\n",
        "    <li><b>slope:</b> The slope of the peak exercise ST segment (0 = downsloping; 1 = flat; 2 = upsloping)</li>\n",
        "    <li><b>ca:</b> Number of major vessels (0-3) colored by flourosopy</li>\n",
        "    <li><b>thal:</b> 1 = normal; 2 = fixed defect; 7 = reversable defect</li>\n",
        "    <li><b><u>Sick:</u></b> Indicates the presence of Heart disease (True = Disease; False = No disease)</li>\n",
        "</ul>\n",
        "    \n"
      ]
    },
    {
      "cell_type": "markdown",
      "metadata": {
        "id": "Z8LGF1mEUGcA"
      },
      "source": [
        "## Loading Essentials and Helper Functions "
      ]
    },
    {
      "cell_type": "code",
      "metadata": {
        "id": "o-tp8i_UUGcI"
      },
      "source": [
        "#Here are a set of libraries we imported to complete this assignment. \n",
        "#Feel free to use these or equivalent libraries for your implementation\n",
        "import numpy as np # linear algebra\n",
        "import pandas as pd # data processing, CSV file I/O (e.g. pd.read_csv)\n",
        "import matplotlib.pyplot as plt # this is used for the plot the graph \n",
        "import os\n",
        "import seaborn as sns # used for plot interactive graph.\n",
        "from sklearn.model_selection import train_test_split, cross_val_score, GridSearchCV\n",
        "from sklearn import metrics\n",
        "from sklearn.svm import SVC  \n",
        "from sklearn.linear_model import LogisticRegression\n",
        "from sklearn.neighbors import KNeighborsClassifier\n",
        "from sklearn.tree import DecisionTreeClassifier\n",
        "from sklearn.cluster import KMeans\n",
        "from sklearn.metrics import confusion_matrix\n",
        "import sklearn.metrics.cluster as smc\n",
        "from sklearn.model_selection import KFold\n",
        "\n",
        "\n",
        "from matplotlib import pyplot\n",
        "import itertools\n",
        "\n",
        "%matplotlib inline\n",
        "import random \n",
        "  \n",
        "random.seed(42) "
      ],
      "execution_count": null,
      "outputs": []
    },
    {
      "cell_type": "code",
      "metadata": {
        "id": "33E2BsdNUGcO"
      },
      "source": [
        "# Helper function allowing you to export a graph\n",
        "def save_fig(fig_id, tight_layout=True, fig_extension=\"png\", resolution=300):\n",
        "    path = os.path.join(fig_id + \".\" + fig_extension)\n",
        "    print(\"Saving figure\", fig_id)\n",
        "    if tight_layout:\n",
        "        plt.tight_layout()\n",
        "    plt.savefig(path, format=fig_extension, dpi=resolution)"
      ],
      "execution_count": null,
      "outputs": []
    },
    {
      "cell_type": "code",
      "metadata": {
        "id": "1Rg147ZWUGcV"
      },
      "source": [
        "# Helper function that allows you to draw nicely formatted confusion matrices\n",
        "def draw_confusion_matrix(y, yhat, classes):\n",
        "    '''\n",
        "        Draws a confusion matrix for the given target and predictions\n",
        "        Adapted from scikit-learn and discussion example.\n",
        "    '''\n",
        "    plt.cla()\n",
        "    plt.clf()\n",
        "    matrix = confusion_matrix(y, yhat)\n",
        "    plt.imshow(matrix, interpolation='nearest', cmap=plt.cm.Blues)\n",
        "    plt.title(\"Confusion Matrix\")\n",
        "    plt.colorbar()\n",
        "    num_classes = len(classes)\n",
        "    plt.xticks(np.arange(num_classes), classes, rotation=90)\n",
        "    plt.yticks(np.arange(num_classes), classes)\n",
        "    \n",
        "    fmt = 'd'\n",
        "    thresh = matrix.max() / 2.\n",
        "    for i, j in itertools.product(range(matrix.shape[0]), range(matrix.shape[1])):\n",
        "        plt.text(j, i, format(matrix[i, j], fmt),\n",
        "                 horizontalalignment=\"center\",\n",
        "                 color=\"white\" if matrix[i, j] > thresh else \"black\")\n",
        "\n",
        "    plt.ylabel('True label')\n",
        "    plt.xlabel('Predicted label')\n",
        "    plt.tight_layout()\n",
        "    plt.show()"
      ],
      "execution_count": null,
      "outputs": []
    },
    {
      "cell_type": "markdown",
      "metadata": {
        "id": "DgNZnUnMUGcb"
      },
      "source": [
        "## [20 Points] Part 1. Load the Data and Analyze"
      ]
    },
    {
      "cell_type": "markdown",
      "metadata": {
        "id": "oyO3DVh7UGce"
      },
      "source": [
        "Let's first load our dataset so we'll be able to work with it. (correct the relative path if your notebook is in a different directory than the csv file.)"
      ]
    },
    {
      "cell_type": "code",
      "metadata": {
        "id": "frIy1E9BUGch"
      },
      "source": [
        "#DATASET_PATH = os.path.join(\"datasets\", \"housing\")\n",
        "#def load_data(path):\n",
        "    #heartdisease = os.path.join(housing_path, \"heartdisease.csv\")\n",
        "    #return pd.read_csv(heartdisease.csv)\n",
        "    #googlecolab_only\n",
        "    #return pd.read_csv(io.BytesIO(uploaded['heartdisease.csv']))"
      ],
      "execution_count": null,
      "outputs": []
    },
    {
      "cell_type": "code",
      "metadata": {
        "id": "hdDjwyRkU5ZA"
      },
      "source": [
        "#googlecolab only\n",
        "#from google.colab import files\n",
        "#uploaded = files.upload()\n",
        "#import io\n",
        "\n",
        "heartdisease = pd.read_csv(\"heartdisease.csv\")\n",
        "#load_data(DATASET_PATH) # we load the pandas dataframe\n",
        " # show the first few elements of the dataframe\n",
        "               # typically this is the first thing you do\n",
        "               # to see how the dataframe looks like"
      ],
      "execution_count": null,
      "outputs": []
    },
    {
      "cell_type": "markdown",
      "metadata": {
        "id": "WfoBlU2oUGcp"
      },
      "source": [
        "### Question 1.1 Now that our data is loaded, let's take a closer look at the dataset we're working with. Use the head method to display some of the rows so we can visualize the types of data fields we'll be working with, then use the describe method, along with any additional methods you'd like to call to better help you understand what you're working with and what issues you might face. "
      ]
    },
    {
      "cell_type": "code",
      "metadata": {
        "id": "ltYP0OhnUGcr",
        "colab": {
          "base_uri": "https://localhost:8080/",
          "height": 197
        },
        "outputId": "e01557a4-38b5-4486-c20a-bbf8bd119bbc"
      },
      "source": [
        "heartdisease.head()"
      ],
      "execution_count": null,
      "outputs": [
        {
          "output_type": "execute_result",
          "data": {
            "text/html": [
              "<div>\n",
              "<style scoped>\n",
              "    .dataframe tbody tr th:only-of-type {\n",
              "        vertical-align: middle;\n",
              "    }\n",
              "\n",
              "    .dataframe tbody tr th {\n",
              "        vertical-align: top;\n",
              "    }\n",
              "\n",
              "    .dataframe thead th {\n",
              "        text-align: right;\n",
              "    }\n",
              "</style>\n",
              "<table border=\"1\" class=\"dataframe\">\n",
              "  <thead>\n",
              "    <tr style=\"text-align: right;\">\n",
              "      <th></th>\n",
              "      <th>age</th>\n",
              "      <th>sex</th>\n",
              "      <th>cp</th>\n",
              "      <th>trestbps</th>\n",
              "      <th>chol</th>\n",
              "      <th>fbs</th>\n",
              "      <th>restecg</th>\n",
              "      <th>thalach</th>\n",
              "      <th>exang</th>\n",
              "      <th>oldpeak</th>\n",
              "      <th>slope</th>\n",
              "      <th>ca</th>\n",
              "      <th>thal</th>\n",
              "      <th>sick</th>\n",
              "    </tr>\n",
              "  </thead>\n",
              "  <tbody>\n",
              "    <tr>\n",
              "      <th>0</th>\n",
              "      <td>63</td>\n",
              "      <td>1</td>\n",
              "      <td>3</td>\n",
              "      <td>145</td>\n",
              "      <td>233</td>\n",
              "      <td>1</td>\n",
              "      <td>0</td>\n",
              "      <td>150</td>\n",
              "      <td>0</td>\n",
              "      <td>2.3</td>\n",
              "      <td>0</td>\n",
              "      <td>0</td>\n",
              "      <td>1</td>\n",
              "      <td>False</td>\n",
              "    </tr>\n",
              "    <tr>\n",
              "      <th>1</th>\n",
              "      <td>37</td>\n",
              "      <td>1</td>\n",
              "      <td>2</td>\n",
              "      <td>130</td>\n",
              "      <td>250</td>\n",
              "      <td>0</td>\n",
              "      <td>1</td>\n",
              "      <td>187</td>\n",
              "      <td>0</td>\n",
              "      <td>3.5</td>\n",
              "      <td>0</td>\n",
              "      <td>0</td>\n",
              "      <td>2</td>\n",
              "      <td>False</td>\n",
              "    </tr>\n",
              "    <tr>\n",
              "      <th>2</th>\n",
              "      <td>41</td>\n",
              "      <td>0</td>\n",
              "      <td>1</td>\n",
              "      <td>130</td>\n",
              "      <td>204</td>\n",
              "      <td>0</td>\n",
              "      <td>0</td>\n",
              "      <td>172</td>\n",
              "      <td>0</td>\n",
              "      <td>1.4</td>\n",
              "      <td>2</td>\n",
              "      <td>0</td>\n",
              "      <td>2</td>\n",
              "      <td>False</td>\n",
              "    </tr>\n",
              "    <tr>\n",
              "      <th>3</th>\n",
              "      <td>56</td>\n",
              "      <td>1</td>\n",
              "      <td>1</td>\n",
              "      <td>120</td>\n",
              "      <td>236</td>\n",
              "      <td>0</td>\n",
              "      <td>1</td>\n",
              "      <td>178</td>\n",
              "      <td>0</td>\n",
              "      <td>0.8</td>\n",
              "      <td>2</td>\n",
              "      <td>0</td>\n",
              "      <td>2</td>\n",
              "      <td>False</td>\n",
              "    </tr>\n",
              "    <tr>\n",
              "      <th>4</th>\n",
              "      <td>57</td>\n",
              "      <td>0</td>\n",
              "      <td>0</td>\n",
              "      <td>120</td>\n",
              "      <td>354</td>\n",
              "      <td>0</td>\n",
              "      <td>1</td>\n",
              "      <td>163</td>\n",
              "      <td>1</td>\n",
              "      <td>0.6</td>\n",
              "      <td>2</td>\n",
              "      <td>0</td>\n",
              "      <td>2</td>\n",
              "      <td>False</td>\n",
              "    </tr>\n",
              "  </tbody>\n",
              "</table>\n",
              "</div>"
            ],
            "text/plain": [
              "   age  sex  cp  trestbps  chol  fbs  ...  exang  oldpeak  slope  ca  thal   sick\n",
              "0   63    1   3       145   233    1  ...      0      2.3      0   0     1  False\n",
              "1   37    1   2       130   250    0  ...      0      3.5      0   0     2  False\n",
              "2   41    0   1       130   204    0  ...      0      1.4      2   0     2  False\n",
              "3   56    1   1       120   236    0  ...      0      0.8      2   0     2  False\n",
              "4   57    0   0       120   354    0  ...      1      0.6      2   0     2  False\n",
              "\n",
              "[5 rows x 14 columns]"
            ]
          },
          "metadata": {
            "tags": []
          },
          "execution_count": 168
        }
      ]
    },
    {
      "cell_type": "code",
      "metadata": {
        "id": "P1qIJCW84tfA",
        "colab": {
          "base_uri": "https://localhost:8080/",
          "height": 287
        },
        "outputId": "23d9d520-b093-4b7a-d3ab-982f85bd4982"
      },
      "source": [
        "heartdisease.describe()"
      ],
      "execution_count": null,
      "outputs": [
        {
          "output_type": "execute_result",
          "data": {
            "text/html": [
              "<div>\n",
              "<style scoped>\n",
              "    .dataframe tbody tr th:only-of-type {\n",
              "        vertical-align: middle;\n",
              "    }\n",
              "\n",
              "    .dataframe tbody tr th {\n",
              "        vertical-align: top;\n",
              "    }\n",
              "\n",
              "    .dataframe thead th {\n",
              "        text-align: right;\n",
              "    }\n",
              "</style>\n",
              "<table border=\"1\" class=\"dataframe\">\n",
              "  <thead>\n",
              "    <tr style=\"text-align: right;\">\n",
              "      <th></th>\n",
              "      <th>age</th>\n",
              "      <th>sex</th>\n",
              "      <th>cp</th>\n",
              "      <th>trestbps</th>\n",
              "      <th>chol</th>\n",
              "      <th>fbs</th>\n",
              "      <th>restecg</th>\n",
              "      <th>thalach</th>\n",
              "      <th>exang</th>\n",
              "      <th>oldpeak</th>\n",
              "      <th>slope</th>\n",
              "      <th>ca</th>\n",
              "      <th>thal</th>\n",
              "    </tr>\n",
              "  </thead>\n",
              "  <tbody>\n",
              "    <tr>\n",
              "      <th>count</th>\n",
              "      <td>303.000000</td>\n",
              "      <td>303.000000</td>\n",
              "      <td>303.000000</td>\n",
              "      <td>303.000000</td>\n",
              "      <td>303.000000</td>\n",
              "      <td>303.000000</td>\n",
              "      <td>303.000000</td>\n",
              "      <td>303.000000</td>\n",
              "      <td>303.000000</td>\n",
              "      <td>303.000000</td>\n",
              "      <td>303.000000</td>\n",
              "      <td>303.000000</td>\n",
              "      <td>303.000000</td>\n",
              "    </tr>\n",
              "    <tr>\n",
              "      <th>mean</th>\n",
              "      <td>54.366337</td>\n",
              "      <td>0.683168</td>\n",
              "      <td>0.966997</td>\n",
              "      <td>131.623762</td>\n",
              "      <td>246.264026</td>\n",
              "      <td>0.148515</td>\n",
              "      <td>0.528053</td>\n",
              "      <td>149.646865</td>\n",
              "      <td>0.326733</td>\n",
              "      <td>1.039604</td>\n",
              "      <td>1.399340</td>\n",
              "      <td>0.729373</td>\n",
              "      <td>2.313531</td>\n",
              "    </tr>\n",
              "    <tr>\n",
              "      <th>std</th>\n",
              "      <td>9.082101</td>\n",
              "      <td>0.466011</td>\n",
              "      <td>1.032052</td>\n",
              "      <td>17.538143</td>\n",
              "      <td>51.830751</td>\n",
              "      <td>0.356198</td>\n",
              "      <td>0.525860</td>\n",
              "      <td>22.905161</td>\n",
              "      <td>0.469794</td>\n",
              "      <td>1.161075</td>\n",
              "      <td>0.616226</td>\n",
              "      <td>1.022606</td>\n",
              "      <td>0.612277</td>\n",
              "    </tr>\n",
              "    <tr>\n",
              "      <th>min</th>\n",
              "      <td>29.000000</td>\n",
              "      <td>0.000000</td>\n",
              "      <td>0.000000</td>\n",
              "      <td>94.000000</td>\n",
              "      <td>126.000000</td>\n",
              "      <td>0.000000</td>\n",
              "      <td>0.000000</td>\n",
              "      <td>71.000000</td>\n",
              "      <td>0.000000</td>\n",
              "      <td>0.000000</td>\n",
              "      <td>0.000000</td>\n",
              "      <td>0.000000</td>\n",
              "      <td>0.000000</td>\n",
              "    </tr>\n",
              "    <tr>\n",
              "      <th>25%</th>\n",
              "      <td>47.500000</td>\n",
              "      <td>0.000000</td>\n",
              "      <td>0.000000</td>\n",
              "      <td>120.000000</td>\n",
              "      <td>211.000000</td>\n",
              "      <td>0.000000</td>\n",
              "      <td>0.000000</td>\n",
              "      <td>133.500000</td>\n",
              "      <td>0.000000</td>\n",
              "      <td>0.000000</td>\n",
              "      <td>1.000000</td>\n",
              "      <td>0.000000</td>\n",
              "      <td>2.000000</td>\n",
              "    </tr>\n",
              "    <tr>\n",
              "      <th>50%</th>\n",
              "      <td>55.000000</td>\n",
              "      <td>1.000000</td>\n",
              "      <td>1.000000</td>\n",
              "      <td>130.000000</td>\n",
              "      <td>240.000000</td>\n",
              "      <td>0.000000</td>\n",
              "      <td>1.000000</td>\n",
              "      <td>153.000000</td>\n",
              "      <td>0.000000</td>\n",
              "      <td>0.800000</td>\n",
              "      <td>1.000000</td>\n",
              "      <td>0.000000</td>\n",
              "      <td>2.000000</td>\n",
              "    </tr>\n",
              "    <tr>\n",
              "      <th>75%</th>\n",
              "      <td>61.000000</td>\n",
              "      <td>1.000000</td>\n",
              "      <td>2.000000</td>\n",
              "      <td>140.000000</td>\n",
              "      <td>274.500000</td>\n",
              "      <td>0.000000</td>\n",
              "      <td>1.000000</td>\n",
              "      <td>166.000000</td>\n",
              "      <td>1.000000</td>\n",
              "      <td>1.600000</td>\n",
              "      <td>2.000000</td>\n",
              "      <td>1.000000</td>\n",
              "      <td>3.000000</td>\n",
              "    </tr>\n",
              "    <tr>\n",
              "      <th>max</th>\n",
              "      <td>77.000000</td>\n",
              "      <td>1.000000</td>\n",
              "      <td>3.000000</td>\n",
              "      <td>200.000000</td>\n",
              "      <td>564.000000</td>\n",
              "      <td>1.000000</td>\n",
              "      <td>2.000000</td>\n",
              "      <td>202.000000</td>\n",
              "      <td>1.000000</td>\n",
              "      <td>6.200000</td>\n",
              "      <td>2.000000</td>\n",
              "      <td>4.000000</td>\n",
              "      <td>3.000000</td>\n",
              "    </tr>\n",
              "  </tbody>\n",
              "</table>\n",
              "</div>"
            ],
            "text/plain": [
              "              age         sex          cp  ...       slope          ca        thal\n",
              "count  303.000000  303.000000  303.000000  ...  303.000000  303.000000  303.000000\n",
              "mean    54.366337    0.683168    0.966997  ...    1.399340    0.729373    2.313531\n",
              "std      9.082101    0.466011    1.032052  ...    0.616226    1.022606    0.612277\n",
              "min     29.000000    0.000000    0.000000  ...    0.000000    0.000000    0.000000\n",
              "25%     47.500000    0.000000    0.000000  ...    1.000000    0.000000    2.000000\n",
              "50%     55.000000    1.000000    1.000000  ...    1.000000    0.000000    2.000000\n",
              "75%     61.000000    1.000000    2.000000  ...    2.000000    1.000000    3.000000\n",
              "max     77.000000    1.000000    3.000000  ...    2.000000    4.000000    3.000000\n",
              "\n",
              "[8 rows x 13 columns]"
            ]
          },
          "metadata": {
            "tags": []
          },
          "execution_count": 169
        }
      ]
    },
    {
      "cell_type": "code",
      "metadata": {
        "id": "icZQXa-Q41KM",
        "colab": {
          "base_uri": "https://localhost:8080/",
          "height": 34
        },
        "outputId": "ccf7e41b-18e3-4184-f1d3-c202ab6c7741"
      },
      "source": [
        "heartdisease.isnull().values.any()"
      ],
      "execution_count": null,
      "outputs": [
        {
          "output_type": "execute_result",
          "data": {
            "text/plain": [
              "False"
            ]
          },
          "metadata": {
            "tags": []
          },
          "execution_count": 170
        }
      ]
    },
    {
      "cell_type": "markdown",
      "metadata": {
        "id": "8hTQe9p_UGcv"
      },
      "source": [
        "### Question 1.2 Discuss your data preprocessing strategy. Are their any datafield types that are problemmatic and why? Will there be any null values you will have to impute and how do you intend to do so? Finally, for your numeric and categorical features, what if any, additional preprocessing steps will you take on those data elements?"
      ]
    },
    {
      "cell_type": "markdown",
      "metadata": {
        "id": "ETeStHM8UGcw"
      },
      "source": [
        "  We begin by observing the head() output of our dataset to see what type of variables we're looking at.\n",
        "\n",
        "  A quick search through the data through a function call heartdisease.isnull().values.any() reveals that this dataframe actually doesn't contain null values, so imputation isn't a problem at all.\n",
        "\n",
        "  At first glance, it appears that there are some numerical columns that actually exist as categorical features, such as sex, chestpain, exang, slope, and thal. For our purposes, this is fine, but we must keep in mind that we can therefore not impute these variables with imputation methods such as mean or median. If there are null values, we were likely going to use methods such as mode and manual entry (constant), but as there are no NA or NULL values that need imputation, this is an unnecessary consideration.\n",
        "\n",
        "  Additional preprocessing steps for our data is likely going to be the conversion of the sick column from (TRUE, FALSE) representation of boolean values to (1,0) representations in numerical form for consistency with the rest of the dataframe we have. Furthermore, OneHotEncoder and StandardScaler processing methods are going to be used on our categorical and numerical values respectively. Reasoning behind these pre-processing methods will be explained later, but the hope is that it will improve the accuracy of our predictive classification models."
      ]
    },
    {
      "cell_type": "markdown",
      "metadata": {
        "id": "RYuPhhXYUGcx"
      },
      "source": [
        "### Question 1.3  Before we begin our analysis we need to fix the field(s) that will be problematic. Specifically convert our boolean sick variable into a binary numeric target variable (values of either '0' or '1'), and then drop the original sick datafield from the dataframe."
      ]
    },
    {
      "cell_type": "code",
      "metadata": {
        "id": "YAf3DLucUGc1",
        "colab": {
          "base_uri": "https://localhost:8080/",
          "height": 197
        },
        "outputId": "f8dd223a-7473-4534-d2e7-70edacc2d6c3"
      },
      "source": [
        "heartdisease[\"sick\"] = heartdisease[\"sick\"].astype(int)\n",
        "heartdisease.head()"
      ],
      "execution_count": null,
      "outputs": [
        {
          "output_type": "execute_result",
          "data": {
            "text/html": [
              "<div>\n",
              "<style scoped>\n",
              "    .dataframe tbody tr th:only-of-type {\n",
              "        vertical-align: middle;\n",
              "    }\n",
              "\n",
              "    .dataframe tbody tr th {\n",
              "        vertical-align: top;\n",
              "    }\n",
              "\n",
              "    .dataframe thead th {\n",
              "        text-align: right;\n",
              "    }\n",
              "</style>\n",
              "<table border=\"1\" class=\"dataframe\">\n",
              "  <thead>\n",
              "    <tr style=\"text-align: right;\">\n",
              "      <th></th>\n",
              "      <th>age</th>\n",
              "      <th>sex</th>\n",
              "      <th>cp</th>\n",
              "      <th>trestbps</th>\n",
              "      <th>chol</th>\n",
              "      <th>fbs</th>\n",
              "      <th>restecg</th>\n",
              "      <th>thalach</th>\n",
              "      <th>exang</th>\n",
              "      <th>oldpeak</th>\n",
              "      <th>slope</th>\n",
              "      <th>ca</th>\n",
              "      <th>thal</th>\n",
              "      <th>sick</th>\n",
              "    </tr>\n",
              "  </thead>\n",
              "  <tbody>\n",
              "    <tr>\n",
              "      <th>0</th>\n",
              "      <td>63</td>\n",
              "      <td>1</td>\n",
              "      <td>3</td>\n",
              "      <td>145</td>\n",
              "      <td>233</td>\n",
              "      <td>1</td>\n",
              "      <td>0</td>\n",
              "      <td>150</td>\n",
              "      <td>0</td>\n",
              "      <td>2.3</td>\n",
              "      <td>0</td>\n",
              "      <td>0</td>\n",
              "      <td>1</td>\n",
              "      <td>0</td>\n",
              "    </tr>\n",
              "    <tr>\n",
              "      <th>1</th>\n",
              "      <td>37</td>\n",
              "      <td>1</td>\n",
              "      <td>2</td>\n",
              "      <td>130</td>\n",
              "      <td>250</td>\n",
              "      <td>0</td>\n",
              "      <td>1</td>\n",
              "      <td>187</td>\n",
              "      <td>0</td>\n",
              "      <td>3.5</td>\n",
              "      <td>0</td>\n",
              "      <td>0</td>\n",
              "      <td>2</td>\n",
              "      <td>0</td>\n",
              "    </tr>\n",
              "    <tr>\n",
              "      <th>2</th>\n",
              "      <td>41</td>\n",
              "      <td>0</td>\n",
              "      <td>1</td>\n",
              "      <td>130</td>\n",
              "      <td>204</td>\n",
              "      <td>0</td>\n",
              "      <td>0</td>\n",
              "      <td>172</td>\n",
              "      <td>0</td>\n",
              "      <td>1.4</td>\n",
              "      <td>2</td>\n",
              "      <td>0</td>\n",
              "      <td>2</td>\n",
              "      <td>0</td>\n",
              "    </tr>\n",
              "    <tr>\n",
              "      <th>3</th>\n",
              "      <td>56</td>\n",
              "      <td>1</td>\n",
              "      <td>1</td>\n",
              "      <td>120</td>\n",
              "      <td>236</td>\n",
              "      <td>0</td>\n",
              "      <td>1</td>\n",
              "      <td>178</td>\n",
              "      <td>0</td>\n",
              "      <td>0.8</td>\n",
              "      <td>2</td>\n",
              "      <td>0</td>\n",
              "      <td>2</td>\n",
              "      <td>0</td>\n",
              "    </tr>\n",
              "    <tr>\n",
              "      <th>4</th>\n",
              "      <td>57</td>\n",
              "      <td>0</td>\n",
              "      <td>0</td>\n",
              "      <td>120</td>\n",
              "      <td>354</td>\n",
              "      <td>0</td>\n",
              "      <td>1</td>\n",
              "      <td>163</td>\n",
              "      <td>1</td>\n",
              "      <td>0.6</td>\n",
              "      <td>2</td>\n",
              "      <td>0</td>\n",
              "      <td>2</td>\n",
              "      <td>0</td>\n",
              "    </tr>\n",
              "  </tbody>\n",
              "</table>\n",
              "</div>"
            ],
            "text/plain": [
              "   age  sex  cp  trestbps  chol  fbs  ...  exang  oldpeak  slope  ca  thal  sick\n",
              "0   63    1   3       145   233    1  ...      0      2.3      0   0     1     0\n",
              "1   37    1   2       130   250    0  ...      0      3.5      0   0     2     0\n",
              "2   41    0   1       130   204    0  ...      0      1.4      2   0     2     0\n",
              "3   56    1   1       120   236    0  ...      0      0.8      2   0     2     0\n",
              "4   57    0   0       120   354    0  ...      1      0.6      2   0     2     0\n",
              "\n",
              "[5 rows x 14 columns]"
            ]
          },
          "metadata": {
            "tags": []
          },
          "execution_count": 171
        }
      ]
    },
    {
      "cell_type": "markdown",
      "metadata": {
        "id": "VqCACmB3UGc6"
      },
      "source": [
        "### Question 1.4 Now that we have a feel for the data-types for each of the variables, plot histograms of each field and attempt to ascertain how each variable performs (is it a binary, or limited selection, or does it follow a gradient? (Note: No need to describe each variable, but pick out a few you wish to highlight)"
      ]
    },
    {
      "cell_type": "code",
      "metadata": {
        "id": "gFV-8tdOJ5vq",
        "colab": {
          "base_uri": "https://localhost:8080/",
          "height": 1181
        },
        "outputId": "ac633966-754a-46af-fe09-e9604bc7a205"
      },
      "source": [
        "heartdisease.hist(figsize=(20,15))"
      ],
      "execution_count": null,
      "outputs": [
        {
          "output_type": "execute_result",
          "data": {
            "text/plain": [
              "array([[<matplotlib.axes._subplots.AxesSubplot object at 0x7fbaa6b38e48>,\n",
              "        <matplotlib.axes._subplots.AxesSubplot object at 0x7fbaa690c0b8>,\n",
              "        <matplotlib.axes._subplots.AxesSubplot object at 0x7fbaa679ef28>,\n",
              "        <matplotlib.axes._subplots.AxesSubplot object at 0x7fbaa6758390>],\n",
              "       [<matplotlib.axes._subplots.AxesSubplot object at 0x7fbaa6704940>,\n",
              "        <matplotlib.axes._subplots.AxesSubplot object at 0x7fbaa6735ef0>,\n",
              "        <matplotlib.axes._subplots.AxesSubplot object at 0x7fbaa66f44e0>,\n",
              "        <matplotlib.axes._subplots.AxesSubplot object at 0x7fbaa66a4ac8>],\n",
              "       [<matplotlib.axes._subplots.AxesSubplot object at 0x7fbaa66a4b00>,\n",
              "        <matplotlib.axes._subplots.AxesSubplot object at 0x7fbaa6613630>,\n",
              "        <matplotlib.axes._subplots.AxesSubplot object at 0x7fbaa65c3be0>,\n",
              "        <matplotlib.axes._subplots.AxesSubplot object at 0x7fbaa6814940>],\n",
              "       [<matplotlib.axes._subplots.AxesSubplot object at 0x7fbaa68b0be0>,\n",
              "        <matplotlib.axes._subplots.AxesSubplot object at 0x7fbaa6ac91d0>,\n",
              "        <matplotlib.axes._subplots.AxesSubplot object at 0x7fbaa6a18a20>,\n",
              "        <matplotlib.axes._subplots.AxesSubplot object at 0x7fbaa6a25b38>]],\n",
              "      dtype=object)"
            ]
          },
          "metadata": {
            "tags": []
          },
          "execution_count": 172
        },
        {
          "output_type": "display_data",
          "data": {
            "image/png": "[encoded data removed]",
            "text/plain": [
              "<Figure size 1440x1080 with 16 Axes>"
            ]
          },
          "metadata": {
            "tags": []
          }
        }
      ]
    },
    {
      "cell_type": "markdown",
      "metadata": {
        "id": "gy62DH97I-nb"
      },
      "source": [
        "Heart disease diagnosis, measured by the sick column, shows a fairly even split between healthy and non-healthy individuals with a majority towards healthy (not sick). Our histogram reveals binary variable distribution"
      ]
    },
    {
      "cell_type": "code",
      "metadata": {
        "id": "o-sh9EnSUGc8",
        "colab": {
          "base_uri": "https://localhost:8080/",
          "height": 282
        },
        "outputId": "62767912-5e54-4648-cf6a-fc7376cbda55"
      },
      "source": [
        "heartdisease[\"sick\"].plot.hist()"
      ],
      "execution_count": null,
      "outputs": [
        {
          "output_type": "execute_result",
          "data": {
            "text/plain": [
              "<matplotlib.axes._subplots.AxesSubplot at 0x7fbaa6bcb4a8>"
            ]
          },
          "metadata": {
            "tags": []
          },
          "execution_count": 173
        },
        {
          "output_type": "display_data",
          "data": {
            "image/png": "[encoded data removed]",
            "text/plain": [
              "<Figure size 432x288 with 1 Axes>"
            ]
          },
          "metadata": {
            "tags": []
          }
        }
      ]
    },
    {
      "cell_type": "markdown",
      "metadata": {
        "id": "ndVp4aYoJRYP"
      },
      "source": [
        "The sex distribution between men and women shows a binary distribution that tends towards a majority male population. This may cause some inaccuracy in our data if it's expanded and grows to encompass a more even population distribution."
      ]
    },
    {
      "cell_type": "code",
      "metadata": {
        "id": "dhKHMUqC7XbS",
        "colab": {
          "base_uri": "https://localhost:8080/",
          "height": 282
        },
        "outputId": "1554327b-7e59-4643-b720-f6ecbec32d19"
      },
      "source": [
        "heartdisease[\"sex\"].plot.hist()"
      ],
      "execution_count": null,
      "outputs": [
        {
          "output_type": "execute_result",
          "data": {
            "text/plain": [
              "<matplotlib.axes._subplots.AxesSubplot at 0x7fbaa6414668>"
            ]
          },
          "metadata": {
            "tags": []
          },
          "execution_count": 174
        },
        {
          "output_type": "display_data",
          "data": {
            "image/png": "[encoded data removed]",
            "text/plain": [
              "<Figure size 432x288 with 1 Axes>"
            ]
          },
          "metadata": {
            "tags": []
          }
        }
      ]
    },
    {
      "cell_type": "markdown",
      "metadata": {
        "id": "56hXbjoRJnOB"
      },
      "source": [
        "Our age distribution is non-binary and seems to follow a more positive gradient that peaks somewhere within the age range of late 50s and early 60s."
      ]
    },
    {
      "cell_type": "code",
      "metadata": {
        "id": "dQKROdHL7UjE",
        "colab": {
          "base_uri": "https://localhost:8080/",
          "height": 282
        },
        "outputId": "83dce635-ff54-4e5e-f0da-2e936f7a30c2"
      },
      "source": [
        "heartdisease[\"age\"].plot.hist()"
      ],
      "execution_count": null,
      "outputs": [
        {
          "output_type": "execute_result",
          "data": {
            "text/plain": [
              "<matplotlib.axes._subplots.AxesSubplot at 0x7fbaa643bd30>"
            ]
          },
          "metadata": {
            "tags": []
          },
          "execution_count": 175
        },
        {
          "output_type": "display_data",
          "data": {
            "image/png": "[encoded data removed]",
            "text/plain": [
              "<Figure size 432x288 with 1 Axes>"
            ]
          },
          "metadata": {
            "tags": []
          }
        }
      ]
    },
    {
      "cell_type": "markdown",
      "metadata": {
        "id": "5XQxb3RTKUJi"
      },
      "source": [
        "Our trestbps distribution is non-binary and seems to follow a more negative gradient decreases from about 130 and onwards. We can make some assumptions about patient health from this heuristic by comparing it to a baseline \"healthy\" blood pressure."
      ]
    },
    {
      "cell_type": "code",
      "metadata": {
        "id": "9JU0Ty4f7BVN",
        "colab": {
          "base_uri": "https://localhost:8080/",
          "height": 282
        },
        "outputId": "510c2879-a4f2-4ccf-f779-bf8999a81468"
      },
      "source": [
        "heartdisease[\"trestbps\"].plot.hist()"
      ],
      "execution_count": null,
      "outputs": [
        {
          "output_type": "execute_result",
          "data": {
            "text/plain": [
              "<matplotlib.axes._subplots.AxesSubplot at 0x7fbaa630ad30>"
            ]
          },
          "metadata": {
            "tags": []
          },
          "execution_count": 176
        },
        {
          "output_type": "display_data",
          "data": {
            "image/png": "[encoded data removed]",
            "text/plain": [
              "<Figure size 432x288 with 1 Axes>"
            ]
          },
          "metadata": {
            "tags": []
          }
        }
      ]
    },
    {
      "cell_type": "markdown",
      "metadata": {
        "id": "HzooKWkNK51u"
      },
      "source": [
        "Our chol distribution is non-binary and seems to follow a more normalized gradient which decreases from about 250 and onwards. Interestingly, this follows a very similar trend to our trestbps distribution."
      ]
    },
    {
      "cell_type": "code",
      "metadata": {
        "id": "nL0B1sQ07BeL",
        "colab": {
          "base_uri": "https://localhost:8080/",
          "height": 282
        },
        "outputId": "c0c58b40-ab32-433f-8ca7-b22cb175af5c"
      },
      "source": [
        "heartdisease[\"chol\"].plot.hist()"
      ],
      "execution_count": null,
      "outputs": [
        {
          "output_type": "execute_result",
          "data": {
            "text/plain": [
              "<matplotlib.axes._subplots.AxesSubplot at 0x7fbaa6280e48>"
            ]
          },
          "metadata": {
            "tags": []
          },
          "execution_count": 177
        },
        {
          "output_type": "display_data",
          "data": {
            "image/png": "[encoded data removed]",
            "text/plain": [
              "<Figure size 432x288 with 1 Axes>"
            ]
          },
          "metadata": {
            "tags": []
          }
        }
      ]
    },
    {
      "cell_type": "markdown",
      "metadata": {
        "id": "PVZpiEHGUGdB"
      },
      "source": [
        "### Question 1.5 We also want to make sure we are dealing with a balanced dataset. In this case, we want to confirm whether or not we have an equitable number of  sick and healthy individuals to ensure that our classifier will have a sufficiently balanced dataset to adequately classify the two. Plot a histogram specifically of the sick target, and conduct a count of the number of sick and healthy individuals and report on the results: "
      ]
    },
    {
      "cell_type": "code",
      "metadata": {
        "id": "HLsplzP3UGdC",
        "colab": {
          "base_uri": "https://localhost:8080/",
          "height": 282
        },
        "outputId": "f660149a-5fbc-427f-da89-797cc2974235"
      },
      "source": [
        "heartdisease[\"sick\"].plot.hist()"
      ],
      "execution_count": null,
      "outputs": [
        {
          "output_type": "execute_result",
          "data": {
            "text/plain": [
              "<matplotlib.axes._subplots.AxesSubplot at 0x7fbaa62774e0>"
            ]
          },
          "metadata": {
            "tags": []
          },
          "execution_count": 178
        },
        {
          "output_type": "display_data",
          "data": {
            "image/png": "[encoded data removed]",
            "text/plain": [
              "<Figure size 432x288 with 1 Axes>"
            ]
          },
          "metadata": {
            "tags": []
          }
        }
      ]
    },
    {
      "cell_type": "code",
      "metadata": {
        "id": "mYTPI0qd7fRq",
        "colab": {
          "base_uri": "https://localhost:8080/",
          "height": 34
        },
        "outputId": "d379aa83-f1cc-46b0-b4d5-8fb1840f747a"
      },
      "source": [
        "len(heartdisease[heartdisease[\"sick\"] == 0])\n",
        "#Counting Non-Sick"
      ],
      "execution_count": null,
      "outputs": [
        {
          "output_type": "execute_result",
          "data": {
            "text/plain": [
              "165"
            ]
          },
          "metadata": {
            "tags": []
          },
          "execution_count": 179
        }
      ]
    },
    {
      "cell_type": "code",
      "metadata": {
        "id": "FrOgoQTe7qNT",
        "colab": {
          "base_uri": "https://localhost:8080/",
          "height": 34
        },
        "outputId": "6c74e613-bf66-4326-8302-c3971580276e"
      },
      "source": [
        "len(heartdisease[heartdisease[\"sick\"] == 1])\n",
        "#Counting Sick"
      ],
      "execution_count": null,
      "outputs": [
        {
          "output_type": "execute_result",
          "data": {
            "text/plain": [
              "138"
            ]
          },
          "metadata": {
            "tags": []
          },
          "execution_count": 180
        }
      ]
    },
    {
      "cell_type": "code",
      "metadata": {
        "id": "BB5mkXUFBXJB",
        "colab": {
          "base_uri": "https://localhost:8080/",
          "height": 34
        },
        "outputId": "5d026730-42c2-4315-a015-ccbe639f0694"
      },
      "source": [
        "proportionNonSick = 165/303\n",
        "proportionNonSick"
      ],
      "execution_count": null,
      "outputs": [
        {
          "output_type": "execute_result",
          "data": {
            "text/plain": [
              "0.5445544554455446"
            ]
          },
          "metadata": {
            "tags": []
          },
          "execution_count": 181
        }
      ]
    },
    {
      "cell_type": "code",
      "metadata": {
        "id": "pnprTYRzBTLc",
        "colab": {
          "base_uri": "https://localhost:8080/",
          "height": 34
        },
        "outputId": "ff2cf920-9cd4-4269-adba-bd65318c1227"
      },
      "source": [
        "proportionSick = 138/303\n",
        "proportionSick"
      ],
      "execution_count": null,
      "outputs": [
        {
          "output_type": "execute_result",
          "data": {
            "text/plain": [
              "0.45544554455445546"
            ]
          },
          "metadata": {
            "tags": []
          },
          "execution_count": 182
        }
      ]
    },
    {
      "cell_type": "markdown",
      "metadata": {
        "id": "gl16kgO1UGdP"
      },
      "source": [
        "There are about 168 non-sick and individuals and 138 sick individuals in our dataframe. There are not exactly equal amounts of sick and healthy individuals in our dataset, so we will not have the best possible balanced dataset needed to create our classification model. The values are, however, close enough to one another that there won't be too much of an issue from this imbalance. Although, the results of our classification might be geared more towards declaring individuals non-sick simply because we have more data in that direction. The differences between a 50/50 even split of non-sick/sick individuals and a ~55/45 split is a problem that we can leave to our classifier model to solve.\n"
      ]
    },
    {
      "cell_type": "markdown",
      "metadata": {
        "id": "_wkZ_8DnUGdS"
      },
      "source": [
        "### Question  1.6 Balanced datasets are important to ensure that classifiers train adequately and don't overfit, however arbitrary balancing of a dataset might introduce its own issues. Discuss some of the problems that might arise by artificially balancing a dataset."
      ]
    },
    {
      "cell_type": "markdown",
      "metadata": {
        "id": "eETl0nqqUGdV"
      },
      "source": [
        "Because we're using a dataset in order to train a classifier to be able ot make decisions off a dataset, artificial balancing to introduce new or cull old data introduces new biases into our dataset. Because new data is not actually collected in order to balance dataset, but rather old data is being manipulated in someway, a classifier might observe unacceptable behavior because of how the dataset was manipulated. Some methods of manipulation might include repetition of row entries in order to get more sick individuals in our dataset or randomly removing non-sick row entries from our data set until they match the amount of sick-designated entries. \n",
        "\n",
        "Repetition of row entries or synthetic data generation may emphasize feature characteristics based on the way we generate new data. For instance, repeating columns may give greater weight to feature characteristics observed in that repeated row, whatever they might be. When splitting into sample and testing sets, overfitting might be observed as well as the model will recognize the same repeated entries, having been incorporated by synthesizing data, and attribute more classifications towards dealing with that specific training data frame. In other dataset of naturally collected data, the model trained on synthetic data will not be able to perform as well as it possibly can.\n",
        "\n",
        "Culling entries into a balance is achieved may reduce the significance of features that do not get enough representation in the dataframe as a result of seeing entries removed. This may cause underfitting of data in our classification testing as the lack of entries containing certain feature values prevent their application in our model to perform accurate classifications."
      ]
    },
    {
      "cell_type": "markdown",
      "metadata": {
        "id": "Mn7YngPkUGdY"
      },
      "source": [
        "### Question 1.9 Now that we have our dataframe prepared let's start analyzing our data. For this next question let's look at the correlations of our variables to our target value. First, map out the correlations between the values, and then discuss the relationships you observe. Do some research on the variables to understand why they may relate to the observed corellations. Intuitively, why do you think some variables correlate more highly than others (hint: one possible approach you can use the sns heatmap function to map the corr() method)?"
      ]
    },
    {
      "cell_type": "code",
      "metadata": {
        "id": "xCG_MLO-UGdZ",
        "colab": {
          "base_uri": "https://localhost:8080/",
          "height": 317
        },
        "outputId": "9e54f72c-47fb-42ca-9912-a2ee78048050"
      },
      "source": [
        "sns.heatmap(heartdisease.corr())"
      ],
      "execution_count": null,
      "outputs": [
        {
          "output_type": "execute_result",
          "data": {
            "text/plain": [
              "<matplotlib.axes._subplots.AxesSubplot at 0x7fbaa61e7e80>"
            ]
          },
          "metadata": {
            "tags": []
          },
          "execution_count": 183
        },
        {
          "output_type": "display_data",
          "data": {
            "image/png": "[encoded data removed]",
            "text/plain": [
              "<Figure size 432x288 with 2 Axes>"
            ]
          },
          "metadata": {
            "tags": []
          }
        }
      ]
    },
    {
      "cell_type": "code",
      "metadata": {
        "id": "BigCiLcCDlgR",
        "colab": {
          "base_uri": "https://localhost:8080/",
          "height": 212
        },
        "outputId": "484d74f3-97e7-420a-9294-d21648042719"
      },
      "source": [
        "#heartdisease.corr().unstack().sort_values(ascending = False).head(20)\n",
        "heartdisease.corr().unstack().sort_values(ascending = False)[14:24]"
      ],
      "execution_count": null,
      "outputs": [
        {
          "output_type": "execute_result",
          "data": {
            "text/plain": [
              "exang    sick       0.436757\n",
              "sick     exang      0.436757\n",
              "oldpeak  sick       0.430696\n",
              "sick     oldpeak    0.430696\n",
              "         ca         0.391724\n",
              "ca       sick       0.391724\n",
              "thalach  slope      0.386784\n",
              "slope    thalach    0.386784\n",
              "thal     sick       0.344029\n",
              "sick     thal       0.344029\n",
              "dtype: float64"
            ]
          },
          "metadata": {
            "tags": []
          },
          "execution_count": 184
        }
      ]
    },
    {
      "cell_type": "code",
      "metadata": {
        "id": "cQRUyGCpYkoN",
        "colab": {
          "base_uri": "https://localhost:8080/",
          "height": 212
        },
        "outputId": "dd610b37-1443-42ca-88c1-90ccb344f9ec"
      },
      "source": [
        "heartdisease.corr().unstack().sort_values(ascending = False)[186:196]"
      ],
      "execution_count": null,
      "outputs": [
        {
          "output_type": "execute_result",
          "data": {
            "text/plain": [
              "cp       exang     -0.394280\n",
              "exang    cp        -0.394280\n",
              "age      thalach   -0.398522\n",
              "thalach  age       -0.398522\n",
              "         sick      -0.421741\n",
              "sick     thalach   -0.421741\n",
              "         cp        -0.433798\n",
              "cp       sick      -0.433798\n",
              "oldpeak  slope     -0.577537\n",
              "slope    oldpeak   -0.577537\n",
              "dtype: float64"
            ]
          },
          "metadata": {
            "tags": []
          },
          "execution_count": 185
        }
      ]
    },
    {
      "cell_type": "markdown",
      "metadata": {
        "id": "BgI5leszUGde"
      },
      "source": [
        "Most of the data itself sees little correlation with other features in the dataset. The highest correlation values seen between variables that are not matchings of the same variable range from -.578 to .436. The most interesting variable relationships we observe is between binary variables pairings that involve sick. We note that sick shares some positive correlation with exang (exercise-induced angina follows heart disease), oldpeak (a higher/deeper depression also seems to follow heart disease), and ca (more major vessels highlighted with color in flouroscopy imaging). \n",
        "\n",
        "Looking up the medical meaning of these variables reveals that all three of these variables sharing positive correlation with a heart disease diagnosis are indicators of some heart-related issue. This intuitively makes sense as issues related with the heart as measured by these variables can also sierve as symptoms of maladies afflicting the heart.\n",
        "\n",
        "(Some correlation was ignored specifically in variables like cp and thalach as they were categorical variables and thus their values are meaningless in tracking correlation to a binary variable)."
      ]
    },
    {
      "cell_type": "markdown",
      "metadata": {
        "id": "nxe6rFYSUGdh"
      },
      "source": [
        "## [30 Points] Part 2. Prepare the Data "
      ]
    },
    {
      "cell_type": "markdown",
      "metadata": {
        "id": "PdAJjpieUGdj"
      },
      "source": [
        "Before running our various learning methods, we need to do some additional prep to finalize our data. Specifically you'll have to cut the classification target from the data that will be used to classify, and then you'll have to divide the dataset into training and testing cohorts.\n",
        "\n",
        "Specifically, we're going to ask you to prepare 2 batches of data: 1. Will simply be the raw numeric data that hasn't gone through any additional pre-processing. The other, will be data that you pipeline using your own selected methods. We will then feed both of these datasets into a classifier to showcase just how important this step can be!"
      ]
    },
    {
      "cell_type": "markdown",
      "metadata": {
        "id": "e6wq4eePUGdm"
      },
      "source": [
        "### Question 2.1 Save the target column as a separate array and then drop it from the dataframe. "
      ]
    },
    {
      "cell_type": "code",
      "metadata": {
        "id": "pfd7wpGiUGdo"
      },
      "source": [
        "target_column = heartdisease[\"sick\"]"
      ],
      "execution_count": null,
      "outputs": []
    },
    {
      "cell_type": "code",
      "metadata": {
        "id": "tDzRJUUsEb6D",
        "colab": {
          "base_uri": "https://localhost:8080/",
          "height": 123
        },
        "outputId": "acfed07b-4a38-48f5-e41c-9e06681492db"
      },
      "source": [
        "target_column.head()"
      ],
      "execution_count": null,
      "outputs": [
        {
          "output_type": "execute_result",
          "data": {
            "text/plain": [
              "0    0\n",
              "1    0\n",
              "2    0\n",
              "3    0\n",
              "4    0\n",
              "Name: sick, dtype: int64"
            ]
          },
          "metadata": {
            "tags": []
          },
          "execution_count": 187
        }
      ]
    },
    {
      "cell_type": "code",
      "metadata": {
        "id": "selHel7eEOTh",
        "colab": {
          "base_uri": "https://localhost:8080/",
          "height": 197
        },
        "outputId": "276cb450-5dcf-4859-ae82-881386d7f203"
      },
      "source": [
        "heartdisease = heartdisease.drop([\"sick\"], axis = 1)\n",
        "heartdisease.head()"
      ],
      "execution_count": null,
      "outputs": [
        {
          "output_type": "execute_result",
          "data": {
            "text/html": [
              "<div>\n",
              "<style scoped>\n",
              "    .dataframe tbody tr th:only-of-type {\n",
              "        vertical-align: middle;\n",
              "    }\n",
              "\n",
              "    .dataframe tbody tr th {\n",
              "        vertical-align: top;\n",
              "    }\n",
              "\n",
              "    .dataframe thead th {\n",
              "        text-align: right;\n",
              "    }\n",
              "</style>\n",
              "<table border=\"1\" class=\"dataframe\">\n",
              "  <thead>\n",
              "    <tr style=\"text-align: right;\">\n",
              "      <th></th>\n",
              "      <th>age</th>\n",
              "      <th>sex</th>\n",
              "      <th>cp</th>\n",
              "      <th>trestbps</th>\n",
              "      <th>chol</th>\n",
              "      <th>fbs</th>\n",
              "      <th>restecg</th>\n",
              "      <th>thalach</th>\n",
              "      <th>exang</th>\n",
              "      <th>oldpeak</th>\n",
              "      <th>slope</th>\n",
              "      <th>ca</th>\n",
              "      <th>thal</th>\n",
              "    </tr>\n",
              "  </thead>\n",
              "  <tbody>\n",
              "    <tr>\n",
              "      <th>0</th>\n",
              "      <td>63</td>\n",
              "      <td>1</td>\n",
              "      <td>3</td>\n",
              "      <td>145</td>\n",
              "      <td>233</td>\n",
              "      <td>1</td>\n",
              "      <td>0</td>\n",
              "      <td>150</td>\n",
              "      <td>0</td>\n",
              "      <td>2.3</td>\n",
              "      <td>0</td>\n",
              "      <td>0</td>\n",
              "      <td>1</td>\n",
              "    </tr>\n",
              "    <tr>\n",
              "      <th>1</th>\n",
              "      <td>37</td>\n",
              "      <td>1</td>\n",
              "      <td>2</td>\n",
              "      <td>130</td>\n",
              "      <td>250</td>\n",
              "      <td>0</td>\n",
              "      <td>1</td>\n",
              "      <td>187</td>\n",
              "      <td>0</td>\n",
              "      <td>3.5</td>\n",
              "      <td>0</td>\n",
              "      <td>0</td>\n",
              "      <td>2</td>\n",
              "    </tr>\n",
              "    <tr>\n",
              "      <th>2</th>\n",
              "      <td>41</td>\n",
              "      <td>0</td>\n",
              "      <td>1</td>\n",
              "      <td>130</td>\n",
              "      <td>204</td>\n",
              "      <td>0</td>\n",
              "      <td>0</td>\n",
              "      <td>172</td>\n",
              "      <td>0</td>\n",
              "      <td>1.4</td>\n",
              "      <td>2</td>\n",
              "      <td>0</td>\n",
              "      <td>2</td>\n",
              "    </tr>\n",
              "    <tr>\n",
              "      <th>3</th>\n",
              "      <td>56</td>\n",
              "      <td>1</td>\n",
              "      <td>1</td>\n",
              "      <td>120</td>\n",
              "      <td>236</td>\n",
              "      <td>0</td>\n",
              "      <td>1</td>\n",
              "      <td>178</td>\n",
              "      <td>0</td>\n",
              "      <td>0.8</td>\n",
              "      <td>2</td>\n",
              "      <td>0</td>\n",
              "      <td>2</td>\n",
              "    </tr>\n",
              "    <tr>\n",
              "      <th>4</th>\n",
              "      <td>57</td>\n",
              "      <td>0</td>\n",
              "      <td>0</td>\n",
              "      <td>120</td>\n",
              "      <td>354</td>\n",
              "      <td>0</td>\n",
              "      <td>1</td>\n",
              "      <td>163</td>\n",
              "      <td>1</td>\n",
              "      <td>0.6</td>\n",
              "      <td>2</td>\n",
              "      <td>0</td>\n",
              "      <td>2</td>\n",
              "    </tr>\n",
              "  </tbody>\n",
              "</table>\n",
              "</div>"
            ],
            "text/plain": [
              "   age  sex  cp  trestbps  chol  fbs  ...  thalach  exang  oldpeak  slope  ca  thal\n",
              "0   63    1   3       145   233    1  ...      150      0      2.3      0   0     1\n",
              "1   37    1   2       130   250    0  ...      187      0      3.5      0   0     2\n",
              "2   41    0   1       130   204    0  ...      172      0      1.4      2   0     2\n",
              "3   56    1   1       120   236    0  ...      178      0      0.8      2   0     2\n",
              "4   57    0   0       120   354    0  ...      163      1      0.6      2   0     2\n",
              "\n",
              "[5 rows x 13 columns]"
            ]
          },
          "metadata": {
            "tags": []
          },
          "execution_count": 188
        }
      ]
    },
    {
      "cell_type": "markdown",
      "metadata": {
        "id": "T0Gqz_3kUGdr"
      },
      "source": [
        "### Question 2.2 First Create your 'Raw' unprocessed training data by dividing your dataframe into training and testing cohorts, with your training cohort consisting of 70% of your total dataframe (hint: use the train_test_split method) Output the resulting shapes of your training and testing samples to confirm that your split was successful."
      ]
    },
    {
      "cell_type": "code",
      "metadata": {
        "id": "MOVCzG55UGds"
      },
      "source": [
        "x_train, x_test, y_train, y_test = train_test_split(heartdisease, target_column, test_size=0.3)"
      ],
      "execution_count": null,
      "outputs": []
    },
    {
      "cell_type": "code",
      "metadata": {
        "id": "WaFxdyD7FdmC",
        "colab": {
          "base_uri": "https://localhost:8080/",
          "height": 406
        },
        "outputId": "9af7edaa-ba63-48d8-e357-53d96c7d1ec5"
      },
      "source": [
        "x_train.shape\n",
        "x_train"
      ],
      "execution_count": null,
      "outputs": [
        {
          "output_type": "execute_result",
          "data": {
            "text/html": [
              "<div>\n",
              "<style scoped>\n",
              "    .dataframe tbody tr th:only-of-type {\n",
              "        vertical-align: middle;\n",
              "    }\n",
              "\n",
              "    .dataframe tbody tr th {\n",
              "        vertical-align: top;\n",
              "    }\n",
              "\n",
              "    .dataframe thead th {\n",
              "        text-align: right;\n",
              "    }\n",
              "</style>\n",
              "<table border=\"1\" class=\"dataframe\">\n",
              "  <thead>\n",
              "    <tr style=\"text-align: right;\">\n",
              "      <th></th>\n",
              "      <th>age</th>\n",
              "      <th>sex</th>\n",
              "      <th>cp</th>\n",
              "      <th>trestbps</th>\n",
              "      <th>chol</th>\n",
              "      <th>fbs</th>\n",
              "      <th>restecg</th>\n",
              "      <th>thalach</th>\n",
              "      <th>exang</th>\n",
              "      <th>oldpeak</th>\n",
              "      <th>slope</th>\n",
              "      <th>ca</th>\n",
              "      <th>thal</th>\n",
              "    </tr>\n",
              "  </thead>\n",
              "  <tbody>\n",
              "    <tr>\n",
              "      <th>93</th>\n",
              "      <td>54</td>\n",
              "      <td>0</td>\n",
              "      <td>1</td>\n",
              "      <td>132</td>\n",
              "      <td>288</td>\n",
              "      <td>1</td>\n",
              "      <td>0</td>\n",
              "      <td>159</td>\n",
              "      <td>1</td>\n",
              "      <td>0.0</td>\n",
              "      <td>2</td>\n",
              "      <td>1</td>\n",
              "      <td>2</td>\n",
              "    </tr>\n",
              "    <tr>\n",
              "      <th>153</th>\n",
              "      <td>66</td>\n",
              "      <td>0</td>\n",
              "      <td>2</td>\n",
              "      <td>146</td>\n",
              "      <td>278</td>\n",
              "      <td>0</td>\n",
              "      <td>0</td>\n",
              "      <td>152</td>\n",
              "      <td>0</td>\n",
              "      <td>0.0</td>\n",
              "      <td>1</td>\n",
              "      <td>1</td>\n",
              "      <td>2</td>\n",
              "    </tr>\n",
              "    <tr>\n",
              "      <th>225</th>\n",
              "      <td>70</td>\n",
              "      <td>1</td>\n",
              "      <td>0</td>\n",
              "      <td>145</td>\n",
              "      <td>174</td>\n",
              "      <td>0</td>\n",
              "      <td>1</td>\n",
              "      <td>125</td>\n",
              "      <td>1</td>\n",
              "      <td>2.6</td>\n",
              "      <td>0</td>\n",
              "      <td>0</td>\n",
              "      <td>3</td>\n",
              "    </tr>\n",
              "    <tr>\n",
              "      <th>244</th>\n",
              "      <td>56</td>\n",
              "      <td>1</td>\n",
              "      <td>0</td>\n",
              "      <td>132</td>\n",
              "      <td>184</td>\n",
              "      <td>0</td>\n",
              "      <td>0</td>\n",
              "      <td>105</td>\n",
              "      <td>1</td>\n",
              "      <td>2.1</td>\n",
              "      <td>1</td>\n",
              "      <td>1</td>\n",
              "      <td>1</td>\n",
              "    </tr>\n",
              "    <tr>\n",
              "      <th>228</th>\n",
              "      <td>59</td>\n",
              "      <td>1</td>\n",
              "      <td>3</td>\n",
              "      <td>170</td>\n",
              "      <td>288</td>\n",
              "      <td>0</td>\n",
              "      <td>0</td>\n",
              "      <td>159</td>\n",
              "      <td>0</td>\n",
              "      <td>0.2</td>\n",
              "      <td>1</td>\n",
              "      <td>0</td>\n",
              "      <td>3</td>\n",
              "    </tr>\n",
              "    <tr>\n",
              "      <th>...</th>\n",
              "      <td>...</td>\n",
              "      <td>...</td>\n",
              "      <td>...</td>\n",
              "      <td>...</td>\n",
              "      <td>...</td>\n",
              "      <td>...</td>\n",
              "      <td>...</td>\n",
              "      <td>...</td>\n",
              "      <td>...</td>\n",
              "      <td>...</td>\n",
              "      <td>...</td>\n",
              "      <td>...</td>\n",
              "      <td>...</td>\n",
              "    </tr>\n",
              "    <tr>\n",
              "      <th>256</th>\n",
              "      <td>58</td>\n",
              "      <td>1</td>\n",
              "      <td>0</td>\n",
              "      <td>128</td>\n",
              "      <td>259</td>\n",
              "      <td>0</td>\n",
              "      <td>0</td>\n",
              "      <td>130</td>\n",
              "      <td>1</td>\n",
              "      <td>3.0</td>\n",
              "      <td>1</td>\n",
              "      <td>2</td>\n",
              "      <td>3</td>\n",
              "    </tr>\n",
              "    <tr>\n",
              "      <th>243</th>\n",
              "      <td>57</td>\n",
              "      <td>1</td>\n",
              "      <td>0</td>\n",
              "      <td>152</td>\n",
              "      <td>274</td>\n",
              "      <td>0</td>\n",
              "      <td>1</td>\n",
              "      <td>88</td>\n",
              "      <td>1</td>\n",
              "      <td>1.2</td>\n",
              "      <td>1</td>\n",
              "      <td>1</td>\n",
              "      <td>3</td>\n",
              "    </tr>\n",
              "    <tr>\n",
              "      <th>234</th>\n",
              "      <td>70</td>\n",
              "      <td>1</td>\n",
              "      <td>0</td>\n",
              "      <td>130</td>\n",
              "      <td>322</td>\n",
              "      <td>0</td>\n",
              "      <td>0</td>\n",
              "      <td>109</td>\n",
              "      <td>0</td>\n",
              "      <td>2.4</td>\n",
              "      <td>1</td>\n",
              "      <td>3</td>\n",
              "      <td>2</td>\n",
              "    </tr>\n",
              "    <tr>\n",
              "      <th>231</th>\n",
              "      <td>57</td>\n",
              "      <td>1</td>\n",
              "      <td>0</td>\n",
              "      <td>165</td>\n",
              "      <td>289</td>\n",
              "      <td>1</td>\n",
              "      <td>0</td>\n",
              "      <td>124</td>\n",
              "      <td>0</td>\n",
              "      <td>1.0</td>\n",
              "      <td>1</td>\n",
              "      <td>3</td>\n",
              "      <td>3</td>\n",
              "    </tr>\n",
              "    <tr>\n",
              "      <th>200</th>\n",
              "      <td>44</td>\n",
              "      <td>1</td>\n",
              "      <td>0</td>\n",
              "      <td>110</td>\n",
              "      <td>197</td>\n",
              "      <td>0</td>\n",
              "      <td>0</td>\n",
              "      <td>177</td>\n",
              "      <td>0</td>\n",
              "      <td>0.0</td>\n",
              "      <td>2</td>\n",
              "      <td>1</td>\n",
              "      <td>2</td>\n",
              "    </tr>\n",
              "  </tbody>\n",
              "</table>\n",
              "<p>212 rows × 13 columns</p>\n",
              "</div>"
            ],
            "text/plain": [
              "     age  sex  cp  trestbps  chol  ...  exang  oldpeak  slope  ca  thal\n",
              "93    54    0   1       132   288  ...      1      0.0      2   1     2\n",
              "153   66    0   2       146   278  ...      0      0.0      1   1     2\n",
              "225   70    1   0       145   174  ...      1      2.6      0   0     3\n",
              "244   56    1   0       132   184  ...      1      2.1      1   1     1\n",
              "228   59    1   3       170   288  ...      0      0.2      1   0     3\n",
              "..   ...  ...  ..       ...   ...  ...    ...      ...    ...  ..   ...\n",
              "256   58    1   0       128   259  ...      1      3.0      1   2     3\n",
              "243   57    1   0       152   274  ...      1      1.2      1   1     3\n",
              "234   70    1   0       130   322  ...      0      2.4      1   3     2\n",
              "231   57    1   0       165   289  ...      0      1.0      1   3     3\n",
              "200   44    1   0       110   197  ...      0      0.0      2   1     2\n",
              "\n",
              "[212 rows x 13 columns]"
            ]
          },
          "metadata": {
            "tags": []
          },
          "execution_count": 190
        }
      ]
    },
    {
      "cell_type": "code",
      "metadata": {
        "id": "rZdXBVU8Fh62",
        "colab": {
          "base_uri": "https://localhost:8080/",
          "height": 34
        },
        "outputId": "85dc0742-6d4a-4763-89de-7c674edf19dc"
      },
      "source": [
        "x_test.shape"
      ],
      "execution_count": null,
      "outputs": [
        {
          "output_type": "execute_result",
          "data": {
            "text/plain": [
              "(91, 13)"
            ]
          },
          "metadata": {
            "tags": []
          },
          "execution_count": 191
        }
      ]
    },
    {
      "cell_type": "code",
      "metadata": {
        "id": "NpA7KtOmFiIL",
        "colab": {
          "base_uri": "https://localhost:8080/",
          "height": 34
        },
        "outputId": "e399b24b-b50f-409d-f2fa-13dac53383c8"
      },
      "source": [
        "y_train.shape"
      ],
      "execution_count": null,
      "outputs": [
        {
          "output_type": "execute_result",
          "data": {
            "text/plain": [
              "(212,)"
            ]
          },
          "metadata": {
            "tags": []
          },
          "execution_count": 192
        }
      ]
    },
    {
      "cell_type": "code",
      "metadata": {
        "id": "o6hEJ55oFiac",
        "colab": {
          "base_uri": "https://localhost:8080/",
          "height": 34
        },
        "outputId": "57eca906-7c46-4f1a-c7cf-149ea5885746"
      },
      "source": [
        "y_test.shape"
      ],
      "execution_count": null,
      "outputs": [
        {
          "output_type": "execute_result",
          "data": {
            "text/plain": [
              "(91,)"
            ]
          },
          "metadata": {
            "tags": []
          },
          "execution_count": 193
        }
      ]
    },
    {
      "cell_type": "markdown",
      "metadata": {
        "id": "jc2X1fFJUGdw"
      },
      "source": [
        "### Question 2.3 Now create a pipeline to conduct any additional preparation of the data you would like. Output the resulting array to ensure it was processed correctly."
      ]
    },
    {
      "cell_type": "code",
      "metadata": {
        "id": "3mfa0XSbUGdx",
        "colab": {
          "base_uri": "https://localhost:8080/",
          "height": 247
        },
        "outputId": "5a2684ee-7dc6-4182-8483-b3f904a85ba2"
      },
      "source": [
        "\n",
        "#Our cat feat\n",
        "#sex: (1 = male; 0 = female)\n",
        "#cp: Chest pain type (0 = asymptomatic; 1 = atypical angina; 2 = non-anginal pain; 3 = typical angina)\n",
        "#fbs Fasting blood sugar > 120 mg/dl (1 = true; 0 = false)\n",
        "#restecg: 1 = normal; 2 = having ST-T wave abnormality (T wave inversions and/or ST elevation or depression of > 0.05 mV))\n",
        "#exang: Exercise induced angina (1 = yes; 0 = no)\n",
        "#slope: The slope of the peak exercise ST segment (0 = downsloping; 1 = flat; 2 = upsloping)\n",
        "#thal: 1 = normal; 2 = fixed defect; 7 = reversable defect\n",
        "#Sick: Indicates the presence of Heart disease (True = Disease; False = No disease)\n",
        "\n",
        "#Our num feat\n",
        "#age: Age in years\n",
        "#ca: Number of major vessels (0-3) colored by flourosopy\n",
        "#trestbps: Resting blood pressure (in mm Hg)\n",
        "#cholserum: Cholestoral in mg/dl\n",
        "#thalach: Maximum heart rate achieved\n",
        "#oldpeakST: Depression induced by exercise relative to rest\n",
        "heartdisease.dtypes\n",
        "list(heartdisease)"
      ],
      "execution_count": null,
      "outputs": [
        {
          "output_type": "execute_result",
          "data": {
            "text/plain": [
              "['age',\n",
              " 'sex',\n",
              " 'cp',\n",
              " 'trestbps',\n",
              " 'chol',\n",
              " 'fbs',\n",
              " 'restecg',\n",
              " 'thalach',\n",
              " 'exang',\n",
              " 'oldpeak',\n",
              " 'slope',\n",
              " 'ca',\n",
              " 'thal']"
            ]
          },
          "metadata": {
            "tags": []
          },
          "execution_count": 194
        }
      ]
    },
    {
      "cell_type": "code",
      "metadata": {
        "id": "V3DrvFOdIuVJ",
        "colab": {
          "base_uri": "https://localhost:8080/",
          "height": 247
        },
        "outputId": "6236476a-0e9d-4c44-85e8-179ac6943c40"
      },
      "source": [
        "\n",
        "from sklearn.pipeline import Pipeline\n",
        "from sklearn.preprocessing import StandardScaler\n",
        "from sklearn.preprocessing import OneHotEncoder\n",
        "from sklearn.compose import ColumnTransformer\n",
        "from sklearn.base import BaseEstimator, TransformerMixin\n",
        "\n",
        "heartdisease_nums = heartdisease.drop([\"sex\", \"cp\", \"fbs\", \"restecg\", \"exang\", \"slope\", \"thal\"], axis = 1)\n",
        "heartdisease_cats = heartdisease.drop([\"age\", \"ca\", \"trestbps\", \"chol\", \"thalach\", \"oldpeak\"], axis = 1)\n",
        "\n",
        "num_pipeline = Pipeline([\n",
        "        ('std_scaler', StandardScaler())\n",
        "    ])\n",
        "\n",
        "heartdisease_nums_tr = num_pipeline.fit_transform(heartdisease_nums)\n",
        "num_features = list(heartdisease_nums)\n",
        "cat_features = list(heartdisease_cats)\n",
        "full_pipeline = ColumnTransformer([\n",
        "        (\"num\", num_pipeline, num_features),\n",
        "        (\"cat\", OneHotEncoder(), cat_features),\n",
        "    ])\n",
        "\n",
        "heartdisease_prepared = full_pipeline.fit_transform(heartdisease)\n",
        "heartdisease_prepared"
      ],
      "execution_count": null,
      "outputs": [
        {
          "output_type": "execute_result",
          "data": {
            "text/plain": [
              "array([[ 0.9521966 ,  0.76395577, -0.25633371, ...,  1.        ,\n",
              "         0.        ,  0.        ],\n",
              "       [-1.91531289, -0.09273778,  0.07219949, ...,  0.        ,\n",
              "         1.        ,  0.        ],\n",
              "       [-1.47415758, -0.09273778, -0.81677269, ...,  0.        ,\n",
              "         1.        ,  0.        ],\n",
              "       ...,\n",
              "       [ 1.50364073,  0.70684287, -1.029353  , ...,  0.        ,\n",
              "         0.        ,  1.        ],\n",
              "       [ 0.29046364, -0.09273778, -2.2275329 , ...,  0.        ,\n",
              "         0.        ,  1.        ],\n",
              "       [ 0.29046364, -0.09273778, -0.19835726, ...,  0.        ,\n",
              "         1.        ,  0.        ]])"
            ]
          },
          "metadata": {
            "tags": []
          },
          "execution_count": 195
        }
      ]
    },
    {
      "cell_type": "markdown",
      "metadata": {
        "id": "xf91vqtvUGd0"
      },
      "source": [
        "### Question 2.4 Now create a separate, processed training data set by dividing your processed dataframe into training and testing cohorts, using the same settings as Q2.2 (REMEMBER TO USE DIFFERENT TRAINING AND TESTING VARIABLES SO AS NOT TO OVERWRITE YOUR PREVIOUS DATA). Output the resulting shapes of your training and testing samples to confirm that your split was successful, and describe what differences there are between your two training datasets."
      ]
    },
    {
      "cell_type": "code",
      "metadata": {
        "id": "1up9On7yUGd0"
      },
      "source": [
        "x_process_train, x_process_test, y_process_train, y_process_test = train_test_split(heartdisease_prepared, target_column, test_size=0.3)"
      ],
      "execution_count": null,
      "outputs": []
    },
    {
      "cell_type": "code",
      "metadata": {
        "id": "z8eFOfr8yVgi",
        "colab": {
          "base_uri": "https://localhost:8080/",
          "height": 34
        },
        "outputId": "057618aa-8598-47fa-b5be-7c972ad8ded5"
      },
      "source": [
        "x_process_train.shape"
      ],
      "execution_count": null,
      "outputs": [
        {
          "output_type": "execute_result",
          "data": {
            "text/plain": [
              "(212, 26)"
            ]
          },
          "metadata": {
            "tags": []
          },
          "execution_count": 197
        }
      ]
    },
    {
      "cell_type": "code",
      "metadata": {
        "id": "txDPjnLsyamB",
        "colab": {
          "base_uri": "https://localhost:8080/",
          "height": 34
        },
        "outputId": "70ae92f4-e251-4fea-d4f3-be3ebd3a894a"
      },
      "source": [
        "x_process_test.shape"
      ],
      "execution_count": null,
      "outputs": [
        {
          "output_type": "execute_result",
          "data": {
            "text/plain": [
              "(91, 26)"
            ]
          },
          "metadata": {
            "tags": []
          },
          "execution_count": 198
        }
      ]
    },
    {
      "cell_type": "code",
      "metadata": {
        "id": "ceC27dVzyau3",
        "colab": {
          "base_uri": "https://localhost:8080/",
          "height": 34
        },
        "outputId": "472ebd35-8c2c-4ccb-a1b8-7a59c5205827"
      },
      "source": [
        "y_process_train.shape"
      ],
      "execution_count": null,
      "outputs": [
        {
          "output_type": "execute_result",
          "data": {
            "text/plain": [
              "(212,)"
            ]
          },
          "metadata": {
            "tags": []
          },
          "execution_count": 199
        }
      ]
    },
    {
      "cell_type": "code",
      "metadata": {
        "id": "z2Rlv5nPya6j",
        "colab": {
          "base_uri": "https://localhost:8080/",
          "height": 34
        },
        "outputId": "fdda6187-4081-4ca7-ef1c-20fd61dfaa95"
      },
      "source": [
        "y_process_test.shape"
      ],
      "execution_count": null,
      "outputs": [
        {
          "output_type": "execute_result",
          "data": {
            "text/plain": [
              "(91,)"
            ]
          },
          "metadata": {
            "tags": []
          },
          "execution_count": 200
        }
      ]
    },
    {
      "cell_type": "markdown",
      "metadata": {
        "id": "kcwYQSTdUGd7"
      },
      "source": [
        "Differences between datasets are designated by the additional preparation steps made in repsonse to Q2.3. Primary differences observed in processing done to categorical and numerical features through OneHotEncoder and StandardScaler respectively. The former converts categorical data into a more binary form to avoid mistakes involved in interpreting number categories as true numerical variables. In other words, splitting multiple categories in a single variable to represent binary ones for each category value in a categorical variable. The latter, according to the sci-kit documentation, \"standardizes a dataset\" of numerical values, scaling the unit variance. This makes our data take on a normal distribution which is better for classification models."
      ]
    },
    {
      "cell_type": "markdown",
      "metadata": {
        "id": "NE4t4Zc8UGd9"
      },
      "source": [
        "## [50 Points] Part 3. Learning Methods "
      ]
    },
    {
      "cell_type": "markdown",
      "metadata": {
        "id": "qkzhfHQxUGd-"
      },
      "source": [
        "We're finally ready to actually begin classifying our data. To do so we'll employ multiple learning methods and compare result."
      ]
    },
    {
      "cell_type": "markdown",
      "metadata": {
        "id": "aQ260chbUGd_"
      },
      "source": [
        "### Linear Decision Boundary Methods "
      ]
    },
    {
      "cell_type": "markdown",
      "metadata": {
        "id": "zhUTX_rcUGeA"
      },
      "source": [
        "### SVM (Support Vector Machine)"
      ]
    },
    {
      "cell_type": "markdown",
      "metadata": {
        "id": "F3Tvj6xbUGeB"
      },
      "source": [
        "A Support Vector Machine (SVM) is a discriminative classifier formally defined by a separating hyperplane. In other words, given labeled training data (supervised learning), the algorithm outputs an optimal hyperplane which categorizes new examples. In two dimentional space this hyperplane is a line dividing a plane in two parts where in each class lay in either side."
      ]
    },
    {
      "cell_type": "markdown",
      "metadata": {
        "id": "FuMTyoOeUGeC"
      },
      "source": [
        "### Question 3.1.1 Implement a Support Vector Machine classifier on your RAW dataset. Review the [SVM Documentation](https://scikit-learn.org/stable/modules/generated/sklearn.svm.SVC.html) for how to implement a model. For this implementation you can simply use the default settings, but set probability = True."
      ]
    },
    {
      "cell_type": "code",
      "metadata": {
        "id": "_5_CJ4PaUGeD"
      },
      "source": [
        "# SVM Implementation\n",
        "svm_model = SVC(probability = True, gamma = 'auto')\n",
        "svm_model.fit(x_train, y_train)\n",
        "svm_prediction = svm_model.predict(x_test)\n",
        "svm_score = svm_model.predict_proba(x_test)"
      ],
      "execution_count": null,
      "outputs": []
    },
    {
      "cell_type": "markdown",
      "metadata": {
        "id": "0VlYBCRFUGeJ"
      },
      "source": [
        "### Question 3.1.2 Report the accuracy, precision, recall, F1 Score, and confusion matrix of the resulting model."
      ]
    },
    {
      "cell_type": "code",
      "metadata": {
        "id": "pSfC4_45UGeK",
        "colab": {
          "base_uri": "https://localhost:8080/",
          "height": 458
        },
        "outputId": "516c8c91-e405-4a09-d59f-c468d6d80f26"
      },
      "source": [
        "print(\"Accuracy:\", metrics.accuracy_score(y_test, svm_prediction))\n",
        "print(\"Precision:\", metrics.precision_score(y_test, svm_prediction))\n",
        "print(\"Recall:\", metrics.recall_score(y_test, svm_prediction))\n",
        "print(\"F1:\", metrics.f1_score(y_test, svm_prediction))\n",
        "print(\"Confusion Matrix: \\n\")\n",
        "draw_confusion_matrix(y_test, svm_prediction, ['Healthy', 'Sick'])"
      ],
      "execution_count": null,
      "outputs": [
        {
          "output_type": "stream",
          "text": [
            "Accuracy: 0.5164835164835165\n",
            "Precision: 0.0\n",
            "Recall: 0.0\n",
            "F1: 0.0\n",
            "Confusion Matrix: \n",
            "\n"
          ],
          "name": "stdout"
        },
        {
          "output_type": "stream",
          "text": [
            "/usr/local/lib/python3.6/dist-packages/sklearn/metrics/_classification.py:1272: UndefinedMetricWarning: Precision is ill-defined and being set to 0.0 due to no predicted samples. Use `zero_division` parameter to control this behavior.\n",
            "  _warn_prf(average, modifier, msg_start, len(result))\n"
          ],
          "name": "stderr"
        },
        {
          "output_type": "display_data",
          "data": {
            "image/png": "[encoded data removed]",
            "text/plain": [
              "<Figure size 432x288 with 2 Axes>"
            ]
          },
          "metadata": {
            "tags": []
          }
        }
      ]
    },
    {
      "cell_type": "markdown",
      "metadata": {
        "id": "UBDyLOJCUGeP"
      },
      "source": [
        "### Question 3.1.3 Discuss what each measure is reporting, why they are different, and why are each of these measures is significant. Explore why we might choose to evaluate the performance of differing models differently based on these factors. Try to give some specific examples of scenarios in which you might value one of these measures over the others."
      ]
    },
    {
      "cell_type": "markdown",
      "metadata": {
        "id": "bK86pHwhUGeR"
      },
      "source": [
        "Accuracy: An evaluation of how well a prediction model performs when comparing computed predictions to the real results. (Simply tracks proportion of correct predictions). Best for simple problems with balanced datasets and low real-world impact, like labeling images (MNIST character classification).\n",
        "\n",
        "Precision: Similar to accuracy, indicates the matching proportion of correct positive results (healthy in our case) over our total number of positive results (false positives and true positives); (Counts correct positive predictions to measure false positive rate). Best when false positives are an important thing to track (e.g. whether or not a phone call is made from a spam service or real person).\n",
        "\n",
        "Recall: Similar to precision and accuracy, indicates our true positive ratio over what is potentially a combination of true positives and false negatives; (Counts correct positive predictions to measure false negative rate). Best when false negatives are a concern (e.g. misdiagnosis of an individual as a carrier of coronavirus requires methods minimizing false negatives due to risk).\n",
        "\n",
        "F1: A mean taken between precision and recall results. It's best used when we weigh the precision and recall values equally enough that they can both be used as an indicator of accuracy; (Strikes a balance between measuring errors for false positives and negatives). Better when wrongful predictions hold greater weight, or more risky real-world decision making (e.g. predicting real-time traffic trends, as mislabeling high-density and low-density traffic is more significant than correctly predicting densities of traffic due to impact on all drivers on the road). Additionally, it's great for unbalanced dataset which are more true to imitating the real-world of data and data-related problems.\n",
        "\n",
        "Confusion Matrix: Doesn't actually measure anything computationally since it mostly just serves as a graphic depiction of our false/true positive/negative readings. Because of this, it's always useful to get a general understanding of the other metrics."
      ]
    },
    {
      "cell_type": "markdown",
      "metadata": {
        "id": "V_O4_tEVUGeS"
      },
      "source": [
        "### Question 3.1.4 Plot a Receiver Operating Characteristic curve, or ROC curve, and describe what it is and what the results indicate"
      ]
    },
    {
      "cell_type": "code",
      "metadata": {
        "id": "MYEue3DhUGeT",
        "colab": {
          "base_uri": "https://localhost:8080/",
          "height": 282
        },
        "outputId": "4eb69711-2640-4651-b6c6-d86bc777c903"
      },
      "source": [
        "fpr_svm, tpr_svm, threshholds = metrics.roc_curve(y_test, svm_score[:, 1], pos_label = 1)\n",
        "pyplot.figure(1)\n",
        "pyplot.plot(fpr_svm, tpr_svm)"
      ],
      "execution_count": null,
      "outputs": [
        {
          "output_type": "execute_result",
          "data": {
            "text/plain": [
              "[<matplotlib.lines.Line2D at 0x7fbaa60d11d0>]"
            ]
          },
          "metadata": {
            "tags": []
          },
          "execution_count": 203
        },
        {
          "output_type": "display_data",
          "data": {
            "image/png": "[encoded data removed]",
            "text/plain": [
              "<Figure size 432x288 with 1 Axes>"
            ]
          },
          "metadata": {
            "tags": []
          }
        }
      ]
    },
    {
      "cell_type": "markdown",
      "metadata": {
        "id": "s-6lenXCUGeW"
      },
      "source": [
        "An ROC curve measures our true positive rate against our false positive rate. This is primarily to see if our model would work better on a more general and globalized dataset of greater size and variation. The most important component of the ROC curve is less the curve itself and more the area under the curve. The greater it is, the better \"separability\" it has, meaning that correct predictions are more distinguishable than their false counterparts. "
      ]
    },
    {
      "cell_type": "markdown",
      "metadata": {
        "id": "f92au0uRUGeY"
      },
      "source": [
        "### Question 3.1.5 Rerun, using the exact same settings, only this time use your processed data as inputs. "
      ]
    },
    {
      "cell_type": "code",
      "metadata": {
        "id": "X6QtnB0JUGeZ"
      },
      "source": [
        "svm_model = SVC(probability = True, gamma = 'auto')\n",
        "svm_model.fit(x_process_train, y_process_train)\n",
        "svm_prediction = svm_model.predict(x_process_test)\n",
        "svm_score = svm_model.predict_proba(x_process_test)"
      ],
      "execution_count": null,
      "outputs": []
    },
    {
      "cell_type": "markdown",
      "metadata": {
        "id": "gyWLM5_GUGed"
      },
      "source": [
        "### Question 3.1.6 Report the accuracy, precision, recall, F1 Score, confusion matrix, and plot the ROC Curve of the resulting model."
      ]
    },
    {
      "cell_type": "code",
      "metadata": {
        "id": "maYTsm5wUGef",
        "colab": {
          "base_uri": "https://localhost:8080/",
          "height": 403
        },
        "outputId": "6d1793f3-9faf-44a3-e7ac-c90dc4e64ac5"
      },
      "source": [
        "print(\"Accuracy:\", metrics.accuracy_score(y_process_test, svm_prediction))\n",
        "print(\"Precision:\", metrics.precision_score(y_process_test, svm_prediction))\n",
        "print(\"Recall:\", metrics.recall_score(y_process_test, svm_prediction))\n",
        "print(\"F1:\", metrics.f1_score(y_process_test, svm_prediction))\n",
        "print(\"Confusion Matrix: \\n\")\n",
        "draw_confusion_matrix(y_process_test, svm_prediction, ['Healthy', 'Sick'])"
      ],
      "execution_count": null,
      "outputs": [
        {
          "output_type": "stream",
          "text": [
            "Accuracy: 0.8571428571428571\n",
            "Precision: 0.875\n",
            "Recall: 0.813953488372093\n",
            "F1: 0.8433734939759036\n",
            "Confusion Matrix: \n",
            "\n"
          ],
          "name": "stdout"
        },
        {
          "output_type": "display_data",
          "data": {
            "image/png": "[encoded data removed]",
            "text/plain": [
              "<Figure size 432x288 with 2 Axes>"
            ]
          },
          "metadata": {
            "tags": []
          }
        }
      ]
    },
    {
      "cell_type": "code",
      "metadata": {
        "id": "yj5owOanWlRq",
        "colab": {
          "base_uri": "https://localhost:8080/",
          "height": 282
        },
        "outputId": "00786efa-7cea-421e-b2dc-6032d5177940"
      },
      "source": [
        "fpr_svm, tpr_svm, threshholds = metrics.roc_curve(y_process_test, svm_score[:, 1], pos_label = 1)\n",
        "pyplot.figure(1)\n",
        "pyplot.plot(fpr_svm, tpr_svm)"
      ],
      "execution_count": null,
      "outputs": [
        {
          "output_type": "execute_result",
          "data": {
            "text/plain": [
              "[<matplotlib.lines.Line2D at 0x7fbaa60acfd0>]"
            ]
          },
          "metadata": {
            "tags": []
          },
          "execution_count": 206
        },
        {
          "output_type": "display_data",
          "data": {
            "image/png": "[encoded data removed]",
            "text/plain": [
              "<Figure size 432x288 with 1 Axes>"
            ]
          },
          "metadata": {
            "tags": []
          }
        }
      ]
    },
    {
      "cell_type": "markdown",
      "metadata": {
        "id": "6Y7_PtWpUGer"
      },
      "source": [
        "### Question 3.1.7 Hopefully you've noticed a dramatic change in performance. Discuss why you think your new data has had such a dramatic impact. "
      ]
    },
    {
      "cell_type": "markdown",
      "metadata": {
        "id": "IIsK_VXeUGes"
      },
      "source": [
        "SVM is a classification model which benefits more from the pre-processing we did unto our dataset. Normalizing our data and expanding out our categorical variables (such that they are weighed more evenly between greater category possibilities) helps our classification model perform better than in extremely unbalanced datasets."
      ]
    },
    {
      "cell_type": "markdown",
      "metadata": {
        "id": "xAR5GqG5UGet"
      },
      "source": [
        "### Question 3.1.8 Rerun your SVM, but now modify your model parameter kernel to equal 'linear'. Again report your Accuracy, Precision, Recall, F1 scores, and Confusion matrix and plot the new ROC curve.  "
      ]
    },
    {
      "cell_type": "code",
      "metadata": {
        "id": "58Lr3gX5UGeu"
      },
      "source": [
        "svm_model = SVC(probability = True, gamma = 'auto', kernel = 'linear')\n",
        "svm_model.fit(x_process_train, y_process_train)\n",
        "svm_prediction = svm_model.predict(x_process_test)\n",
        "svm_score = svm_model.predict_proba(x_process_test)"
      ],
      "execution_count": null,
      "outputs": []
    },
    {
      "cell_type": "code",
      "metadata": {
        "id": "658Vtw8v8meT",
        "colab": {
          "base_uri": "https://localhost:8080/",
          "height": 403
        },
        "outputId": "41ee6b1c-8a64-4734-e7b8-dd7b5a6c45e8"
      },
      "source": [
        "print(\"Accuracy:\", metrics.accuracy_score(y_process_test, svm_prediction))\n",
        "print(\"Precision:\", metrics.precision_score(y_process_test, svm_prediction))\n",
        "print(\"Recall:\", metrics.recall_score(y_process_test, svm_prediction))\n",
        "print(\"F1:\", metrics.f1_score(y_process_test, svm_prediction))\n",
        "print(\"Confusion Matrix: \\n\")\n",
        "draw_confusion_matrix(y_process_test, svm_prediction, ['Healthy', 'Sick'])"
      ],
      "execution_count": null,
      "outputs": [
        {
          "output_type": "stream",
          "text": [
            "Accuracy: 0.8021978021978022\n",
            "Precision: 0.8205128205128205\n",
            "Recall: 0.7441860465116279\n",
            "F1: 0.7804878048780488\n",
            "Confusion Matrix: \n",
            "\n"
          ],
          "name": "stdout"
        },
        {
          "output_type": "display_data",
          "data": {
            "image/png": "[encoded data removed]",
            "text/plain": [
              "<Figure size 432x288 with 2 Axes>"
            ]
          },
          "metadata": {
            "tags": []
          }
        }
      ]
    },
    {
      "cell_type": "code",
      "metadata": {
        "id": "xRTWkSVt-epe",
        "colab": {
          "base_uri": "https://localhost:8080/",
          "height": 282
        },
        "outputId": "d0465d06-8caf-4d5c-963f-ae82334d79b7"
      },
      "source": [
        "fpr_svm, tpr_svm, threshholds = metrics.roc_curve(y_process_test, svm_score[:, 1], pos_label = 1)\n",
        "pyplot.figure(1)\n",
        "pyplot.plot(fpr_svm, tpr_svm)"
      ],
      "execution_count": null,
      "outputs": [
        {
          "output_type": "execute_result",
          "data": {
            "text/plain": [
              "[<matplotlib.lines.Line2D at 0x7fbaa5d44940>]"
            ]
          },
          "metadata": {
            "tags": []
          },
          "execution_count": 229
        },
        {
          "output_type": "display_data",
          "data": {
            "image/png": "[encoded data removed]",
            "text/plain": [
              "<Figure size 432x288 with 1 Axes>"
            ]
          },
          "metadata": {
            "tags": []
          }
        }
      ]
    },
    {
      "cell_type": "markdown",
      "metadata": {
        "id": "NnrBntLBUGey"
      },
      "source": [
        "### Question 3.1.9 Explain the what the new results you've achieved mean. Read the documentation to understand what you've changed about your model and explain why changing that input parameter might impact the results in the manner you've observed."
      ]
    },
    {
      "cell_type": "markdown",
      "metadata": {
        "id": "xUPP1ABkUGez"
      },
      "source": [
        "Using a linear kernel slightly weakened the performance of our model across all metrics. This is because changing the kernel changes how our SVM classifies when imposing our data points onto a graph (use of a line in linear vs more abstract radial shapes in rbf, the default). Because of the accuracy of a linear kernel, we deduce that our dataset and prediction problem (sickness)is more comparable to a non-linear problem than a linear problem. \n",
        "\n",
        "This is slightly worse for us as it means that we don't need to rely on a more computation-heavy RBF svm model that avoids the possibility of generalization, which is easier to do when our kernel is linear."
      ]
    },
    {
      "cell_type": "markdown",
      "metadata": {
        "id": "lY5-2QyFUGez"
      },
      "source": [
        "### Logistic Regression"
      ]
    },
    {
      "cell_type": "markdown",
      "metadata": {
        "id": "pRYm0a6hUGe1"
      },
      "source": [
        "Knowing that we're dealing with a linearly configured dataset, let's now try another classifier that's well known for handling linear models: Logistic Regression. Logistic regression is a statistical model that in its basic form uses a logistic function to model a binary dependent variable."
      ]
    },
    {
      "cell_type": "markdown",
      "metadata": {
        "id": "8Kcu3i09UGe2"
      },
      "source": [
        "### Question 3.2.1 Implement a Logistical Regression Classifier. Review the [Logistical Regression Documentation](https://scikit-learn.org/stable/modules/generated/sklearn.linear_model.LogisticRegression.html) for how to implement the model. For this initial model set the solver = 'sag' and max_iter= 10). Report on the same four metrics as the SVM and graph the resulting ROC curve."
      ]
    },
    {
      "cell_type": "code",
      "metadata": {
        "id": "FSKJex-CUGe2",
        "colab": {
          "base_uri": "https://localhost:8080/",
          "height": 52
        },
        "outputId": "b2e2f05a-d00f-4c88-aacf-9851979a1bd6"
      },
      "source": [
        "# Logistic Regression\n",
        "log_model = LogisticRegression(solver = 'sag', max_iter = 10)\n",
        "log_model.fit(x_process_train, y_process_train)\n",
        "log_prediction = log_model.predict(x_process_test)\n",
        "log_score = log_model.predict_proba(x_process_test)"
      ],
      "execution_count": null,
      "outputs": [
        {
          "output_type": "stream",
          "text": [
            "/usr/local/lib/python3.6/dist-packages/sklearn/linear_model/_sag.py:330: ConvergenceWarning: The max_iter was reached which means the coef_ did not converge\n",
            "  \"the coef_ did not converge\", ConvergenceWarning)\n"
          ],
          "name": "stderr"
        }
      ]
    },
    {
      "cell_type": "code",
      "metadata": {
        "id": "KDCSwhP7AFCs",
        "colab": {
          "base_uri": "https://localhost:8080/",
          "height": 403
        },
        "outputId": "c28162fd-73d6-4071-ab70-380d4fc2882f"
      },
      "source": [
        "print(\"Accuracy:\", metrics.accuracy_score(y_process_test, log_prediction))\n",
        "print(\"Precision:\", metrics.precision_score(y_process_test, log_prediction))\n",
        "print(\"Recall:\", metrics.recall_score(y_process_test, log_prediction))\n",
        "print(\"F1:\", metrics.f1_score(y_process_test, log_prediction))\n",
        "print(\"Confusion Matrix: \\n\")\n",
        "draw_confusion_matrix(y_process_test, log_prediction, ['Healthy', 'Sick'])"
      ],
      "execution_count": null,
      "outputs": [
        {
          "output_type": "stream",
          "text": [
            "Accuracy: 0.8351648351648352\n",
            "Precision: 0.85\n",
            "Recall: 0.7906976744186046\n",
            "F1: 0.8192771084337349\n",
            "Confusion Matrix: \n",
            "\n"
          ],
          "name": "stdout"
        },
        {
          "output_type": "display_data",
          "data": {
            "image/png": "[encoded data removed]",
            "text/plain": [
              "<Figure size 432x288 with 2 Axes>"
            ]
          },
          "metadata": {
            "tags": []
          }
        }
      ]
    },
    {
      "cell_type": "code",
      "metadata": {
        "id": "QKBbK40LW2mf",
        "colab": {
          "base_uri": "https://localhost:8080/",
          "height": 282
        },
        "outputId": "92a508a3-a8e7-4d04-a458-298a75f5e61e"
      },
      "source": [
        "fpr_svm, tpr_svm, threshholds = metrics.roc_curve(y_process_test, log_score[:, 1], pos_label = 1)\n",
        "pyplot.figure(1)\n",
        "pyplot.plot(fpr_svm, tpr_svm)"
      ],
      "execution_count": null,
      "outputs": [
        {
          "output_type": "execute_result",
          "data": {
            "text/plain": [
              "[<matplotlib.lines.Line2D at 0x7fbaa6057860>]"
            ]
          },
          "metadata": {
            "tags": []
          },
          "execution_count": 212
        },
        {
          "output_type": "display_data",
          "data": {
            "image/png": "[encoded data removed]",
            "text/plain": [
              "<Figure size 432x288 with 1 Axes>"
            ]
          },
          "metadata": {
            "tags": []
          }
        }
      ]
    },
    {
      "cell_type": "markdown",
      "metadata": {
        "id": "kBdcfm_oUGe8"
      },
      "source": [
        "### Question 3.2.2 Did you notice that when you ran the previous model you got the following warning: \"ConvergenceWarning: The max_iter was reached which means the coef_ did not converge\". Check the documentation and see if you can implement a fix for this problem, and again report your results."
      ]
    },
    {
      "cell_type": "code",
      "metadata": {
        "id": "DVaTmMpjUGe9"
      },
      "source": [
        "# Logistic Regression\n",
        "log_model = LogisticRegression(solver = 'sag', max_iter = 1000)\n",
        "log_model.fit(x_process_train, y_process_train)\n",
        "log_prediction = log_model.predict(x_process_test)\n",
        "log_score = log_model.predict_proba(x_process_test)"
      ],
      "execution_count": null,
      "outputs": []
    },
    {
      "cell_type": "code",
      "metadata": {
        "id": "x_lOFnLAAuWs",
        "colab": {
          "base_uri": "https://localhost:8080/",
          "height": 403
        },
        "outputId": "fb6b1b84-e54a-45b2-fdef-3917f5616be0"
      },
      "source": [
        "print(\"Accuracy:\", metrics.accuracy_score(y_process_test, log_prediction))\n",
        "print(\"Precision:\", metrics.precision_score(y_process_test, log_prediction))\n",
        "print(\"Recall:\", metrics.recall_score(y_process_test, log_prediction))\n",
        "print(\"F1:\", metrics.f1_score(y_process_test, log_prediction))\n",
        "print(\"Confusion Matrix: \\n\")\n",
        "draw_confusion_matrix(y_process_test, log_prediction, ['Healthy', 'Sick'])"
      ],
      "execution_count": null,
      "outputs": [
        {
          "output_type": "stream",
          "text": [
            "Accuracy: 0.8131868131868132\n",
            "Precision: 0.8421052631578947\n",
            "Recall: 0.7441860465116279\n",
            "F1: 0.7901234567901234\n",
            "Confusion Matrix: \n",
            "\n"
          ],
          "name": "stdout"
        },
        {
          "output_type": "display_data",
          "data": {
            "image/png": "[encoded data removed]",
            "text/plain": [
              "<Figure size 432x288 with 2 Axes>"
            ]
          },
          "metadata": {
            "tags": []
          }
        }
      ]
    },
    {
      "cell_type": "code",
      "metadata": {
        "id": "N-a_R8i-W9y8",
        "colab": {
          "base_uri": "https://localhost:8080/",
          "height": 282
        },
        "outputId": "7dc877ea-c5a7-44f3-add2-b947367f33e2"
      },
      "source": [
        "fpr_svm, tpr_svm, threshholds = metrics.roc_curve(y_process_test, log_score[:, 1], pos_label = 1)\n",
        "pyplot.figure(1)\n",
        "pyplot.plot(fpr_svm, tpr_svm)"
      ],
      "execution_count": null,
      "outputs": [
        {
          "output_type": "execute_result",
          "data": {
            "text/plain": [
              "[<matplotlib.lines.Line2D at 0x7fbaa5e749e8>]"
            ]
          },
          "metadata": {
            "tags": []
          },
          "execution_count": 215
        },
        {
          "output_type": "display_data",
          "data": {
            "image/png": "[encoded data removed]",
            "text/plain": [
              "<Figure size 432x288 with 1 Axes>"
            ]
          },
          "metadata": {
            "tags": []
          }
        }
      ]
    },
    {
      "cell_type": "markdown",
      "metadata": {
        "id": "KDqRKgf4UGfA"
      },
      "source": [
        "### Question 3.2.3 Explain what you changed, and why that produced an improved outcome. "
      ]
    },
    {
      "cell_type": "markdown",
      "metadata": {
        "id": "_g96p1t2UGfB"
      },
      "source": [
        "I replaced the maximum number of iterations for convergence with a larger number. Since the result was previously capped at the default, there simply weren't enough iterations that could be run in order to reach the point of converegence. Increasing the allowable number of iterations allows for a convergence point to be reached, improving results.\n",
        "\n",
        "We specify improved results meaning that convergence was reached so that error is no longer thrown. In terms of accuracy measurements, it performs identically to a smaller iteration cap."
      ]
    },
    {
      "cell_type": "markdown",
      "metadata": {
        "id": "UFdruxUFUGfC"
      },
      "source": [
        "### Question 3.2.4 Rerun your logistic classifier, but modify the penalty = 'none', solver='sag' and again report the results."
      ]
    },
    {
      "cell_type": "code",
      "metadata": {
        "id": "9UAuxWbOUGfD",
        "colab": {
          "base_uri": "https://localhost:8080/",
          "height": 52
        },
        "outputId": "884bfe34-84f8-46fa-b8a5-d82f27189a34"
      },
      "source": [
        "# Logistic Regression\n",
        "log_model = LogisticRegression(penalty = 'none', solver = 'sag', max_iter = 1000)\n",
        "log_model.fit(x_process_train, y_process_train)\n",
        "log_prediction = log_model.predict(x_process_test)\n",
        "log_score = log_model.predict_proba(x_process_test)"
      ],
      "execution_count": null,
      "outputs": [
        {
          "output_type": "stream",
          "text": [
            "/usr/local/lib/python3.6/dist-packages/sklearn/linear_model/_sag.py:330: ConvergenceWarning: The max_iter was reached which means the coef_ did not converge\n",
            "  \"the coef_ did not converge\", ConvergenceWarning)\n"
          ],
          "name": "stderr"
        }
      ]
    },
    {
      "cell_type": "code",
      "metadata": {
        "id": "UENX4IP5A7Uj",
        "colab": {
          "base_uri": "https://localhost:8080/",
          "height": 403
        },
        "outputId": "069b179d-de38-4439-d590-414d8bd8f588"
      },
      "source": [
        "print(\"Accuracy:\", metrics.accuracy_score(y_process_test, log_prediction))\n",
        "print(\"Precision:\", metrics.precision_score(y_process_test, log_prediction))\n",
        "print(\"Recall:\", metrics.recall_score(y_process_test, log_prediction))\n",
        "print(\"F1:\", metrics.f1_score(y_process_test, log_prediction))\n",
        "print(\"Confusion Matrix: \\n\")\n",
        "draw_confusion_matrix(y_process_test, log_prediction, ['Healthy', 'Sick'])"
      ],
      "execution_count": null,
      "outputs": [
        {
          "output_type": "stream",
          "text": [
            "Accuracy: 0.7912087912087912\n",
            "Precision: 0.8157894736842105\n",
            "Recall: 0.7209302325581395\n",
            "F1: 0.765432098765432\n",
            "Confusion Matrix: \n",
            "\n"
          ],
          "name": "stdout"
        },
        {
          "output_type": "display_data",
          "data": {
            "image/png": "[encoded data removed]",
            "text/plain": [
              "<Figure size 432x288 with 2 Axes>"
            ]
          },
          "metadata": {
            "tags": []
          }
        }
      ]
    },
    {
      "cell_type": "code",
      "metadata": {
        "id": "NQo2faxZXz0k",
        "colab": {
          "base_uri": "https://localhost:8080/",
          "height": 282
        },
        "outputId": "df782116-bf04-43c7-9c7c-536fc38af7db"
      },
      "source": [
        "fpr_svm, tpr_svm, threshholds = metrics.roc_curve(y_process_test, log_score[:, 1], pos_label = 1)\n",
        "pyplot.figure(1)\n",
        "pyplot.plot(fpr_svm, tpr_svm)"
      ],
      "execution_count": null,
      "outputs": [
        {
          "output_type": "execute_result",
          "data": {
            "text/plain": [
              "[<matplotlib.lines.Line2D at 0x7fbaa5d642e8>]"
            ]
          },
          "metadata": {
            "tags": []
          },
          "execution_count": 218
        },
        {
          "output_type": "display_data",
          "data": {
            "image/png": "[encoded data removed]",
            "text/plain": [
              "<Figure size 432x288 with 1 Axes>"
            ]
          },
          "metadata": {
            "tags": []
          }
        }
      ]
    },
    {
      "cell_type": "markdown",
      "metadata": {
        "id": "xFbNXhCpUGfG"
      },
      "source": [
        "### Question 3.2.5 Explain what what the penalty parameter is doing in this function, what the solver method is, and why this combination likely produced a more optimal outcome. "
      ]
    },
    {
      "cell_type": "markdown",
      "metadata": {
        "id": "pcZBojxEUGfL"
      },
      "source": [
        "The penalty parameter essentially invokes a penalty on a more complex classification algorithm, encouraging normalization/regularization of our data when certain weights used in our model are given too much emphasis. \n",
        "\n",
        "Although this might be good in extremely unbalanced dataset to reduce noise detection, when data is processed such that it's sufficiently \"balanced,\" penalties become unnecessary and harmful to accuracy.\n",
        "\n",
        "Also our solver method is \"sag\" and a solver itself is used for optimization of a model. Sag just happens to be specialized towards large datasets and additionally happens to be compatible when penalty is set to none, enabling our improved outcome, which should've happened and did happen the first time I ran this code before restarting the runtime. I believe that rerunning and resampling my data just changed the performance slightly."
      ]
    },
    {
      "cell_type": "markdown",
      "metadata": {
        "id": "48gedtdvUGfN"
      },
      "source": [
        "### Question 3.2.6 Both logistic regression and linear SVM are trying to classify data points using a linear decision boundary, then what’s the difference between their ways to find this boundary?"
      ]
    },
    {
      "cell_type": "markdown",
      "metadata": {
        "id": "fKLZ12AvUGfO"
      },
      "source": [
        "Even though both want to find the same linear decision boundary through which they make classification decisions, both make different calculations towards this goal. and our suited for different things. Logistic regression appears to have more features suited towards the reduction of noise and maximization of balance, which suggests to me that it's more ideal for imbalanced/real-world datasets. \n",
        "\n",
        "Also, SVM is better suited towards small counts of features while logistic works better with greater numbers of features. SVM is also superior for generalizing models due to a lack of penalization/reduction of noise and imbalance."
      ]
    },
    {
      "cell_type": "markdown",
      "metadata": {
        "id": "N9h2Y2xrUGfO"
      },
      "source": [
        "### Clustering Approaches "
      ]
    },
    {
      "cell_type": "markdown",
      "metadata": {
        "id": "E9KhM7ciUGfP"
      },
      "source": [
        "Let us now try a different approach to classification using a clustering algorithm. Specifically, we're going to be using K-Nearest Neighbor, one of the most popular clustering approaches. "
      ]
    },
    {
      "cell_type": "markdown",
      "metadata": {
        "id": "XBR9g-27UGfQ"
      },
      "source": [
        "### K-Nearest Neighbor  "
      ]
    },
    {
      "cell_type": "markdown",
      "metadata": {
        "id": "TXTUzKODUGfR"
      },
      "source": [
        "### Question 3.3.1 Implement a K-Nearest Neighbor algorithm on our data and report the results. For this initial implementation simply use the default settings. Refer to the [KNN Documentation](https://scikit-learn.org/stable/modules/generated/sklearn.neighbors.KNeighborsClassifier.html) for details on implementation. Report on the accuracy of the resulting model."
      ]
    },
    {
      "cell_type": "code",
      "metadata": {
        "id": "77B2e339UGfS"
      },
      "source": [
        "# k-Nearest Neighbors algorithm\n",
        "knn_model = KNeighborsClassifier()\n",
        "knn_model.fit(x_process_train, y_process_train)\n",
        "knn_prediction = knn_model.predict(x_process_test)\n",
        "knn_real = knn_model.predict_proba(x_process_test)"
      ],
      "execution_count": null,
      "outputs": []
    },
    {
      "cell_type": "code",
      "metadata": {
        "id": "cnbLPfyUCaX5",
        "colab": {
          "base_uri": "https://localhost:8080/",
          "height": 34
        },
        "outputId": "75c8b38e-5999-4b25-efd5-662934069b3a"
      },
      "source": [
        "print(\"Accuracy:\", metrics.accuracy_score(y_process_test, knn_prediction))"
      ],
      "execution_count": null,
      "outputs": [
        {
          "output_type": "stream",
          "text": [
            "Accuracy: 0.7582417582417582\n"
          ],
          "name": "stdout"
        }
      ]
    },
    {
      "cell_type": "markdown",
      "metadata": {
        "id": "NM2dHL8KUGfW"
      },
      "source": [
        "### Question 3.3.2 For clustering algorithms, we use different measures to determine the effectiveness of the model. Specifically here, we're interested in the Homogeneity Score, Completeness Score, V-Measure, Adjusted Rand Score, and Adjusted Mutual Information. Calculate each score (hint review the SKlearn Metrics Clustering documentation for how to implement)."
      ]
    },
    {
      "cell_type": "code",
      "metadata": {
        "id": "3FMwAoyJUGfX",
        "colab": {
          "base_uri": "https://localhost:8080/",
          "height": 421
        },
        "outputId": "e383cdb4-0e2b-4ad1-da17-21b412c9da02"
      },
      "source": [
        "print(\"Homogeneity:\", metrics.homogeneity_score(y_process_test, knn_prediction))\n",
        "print(\"Completeness:\", metrics.completeness_score(y_process_test, knn_prediction))\n",
        "print(\"V-Measure:\", metrics.v_measure_score(y_process_test, knn_prediction))\n",
        "print(\"Adjusted Rand:\", metrics.adjusted_rand_score(y_process_test, knn_prediction))\n",
        "print(\"Adjusted Mutual:\", metrics.adjusted_mutual_info_score(y_process_test, knn_prediction))\n",
        "print(\"Confusion Matrix: \\n\")\n",
        "draw_confusion_matrix(y_process_test, knn_prediction, ['Healthy', 'Sick'])"
      ],
      "execution_count": null,
      "outputs": [
        {
          "output_type": "stream",
          "text": [
            "Homogeneity: 0.20100293100959304\n",
            "Completeness: 0.20100293100959304\n",
            "V-Measure: 0.20100293100959304\n",
            "Adjusted Rand: 0.2585599086256054\n",
            "Adjusted Mutual: 0.19449531318408925\n",
            "Confusion Matrix: \n",
            "\n"
          ],
          "name": "stdout"
        },
        {
          "output_type": "display_data",
          "data": {
            "image/png": "[encoded data removed]",
            "text/plain": [
              "<Figure size 432x288 with 2 Axes>"
            ]
          },
          "metadata": {
            "tags": []
          }
        }
      ]
    },
    {
      "cell_type": "markdown",
      "metadata": {
        "id": "0sv3zacgUGfe"
      },
      "source": [
        "### Question 3.3.3 Explain what each score means and interpret the results for this particular model. "
      ]
    },
    {
      "cell_type": "markdown",
      "metadata": {
        "id": "w-YF3OgRU27l"
      },
      "source": [
        "KNN, based off our results using new clustering measuring metrics, performs far below our logistic and SVM classification models. This is because KNN is a clustering model first and foremost and thus the measurements seen above are a measure of uniformity in clustering, which can be extrapolated towards prediction accuracy.\n",
        "\n",
        "Homogeneity is equivalent to Precision and is a direct representation of clustering uniformity.\n",
        "\n",
        "Completeness indicates the depth of a certain cluster in terms of how well is has properly clustered from some metric/class (equivalent to Recall in terms of how it tracks false negatives).\n",
        "\n",
        "V-Measure averages completeness and homogeneity like an F1 score. It's not a good proxy for F1 scores in terms of applicability towards imbalanced datasets, as that role is served by the Mutual score.\n",
        "\n",
        "Adjusted Rand and Mutual are both unique to clustering algorithms like KNN. Adjusted Rand is the equivalent to an accuracy score but with greater gravitation/impact when it comes to numbers of clusters and randomness. Meanwhile, the mutual score is like rand but calculating differently. In a sense, the relationship between these two variables are like Accuracy and F1, rand being suitable for larger equal clusters and mutual better for imbalanced ones.\n",
        "\n"
      ]
    },
    {
      "cell_type": "markdown",
      "metadata": {
        "id": "CjDxeGXLUGfi"
      },
      "source": [
        "As we're beginning to see, the input parameters for your model can dramatically impact the performance of the model. How do you know which settings to choose? Studying the models and studying your datasets are critical as they can help you anticipate which models and settings are likely to produce optimal results. However sometimes that isn't enough, and a brute force method is necessary to determine which parameters to use. For this next question we'll attempt to optimize a parameter using a brute force approach. "
      ]
    },
    {
      "cell_type": "markdown",
      "metadata": {
        "id": "2NVNq8VKUGfj"
      },
      "source": [
        "### Question 3.3.4 Parameter Optimization.  The KNN Algorithm includes an n_neighbors attribute that specifies how many neighbors to use when developing the cluster. (The default value is 5, which is what your previous model used.) Lets now try n values of: 1, 2, 3, 5, 10, 20, 50, and 100. Run your model for each value and report the 6 measures (5 clustering specific plus accuracy) for each. Report on which n value produces the best accuracy and V-Measure. (HINT leverage python's ability to loop to run through the array and generate results without needing to manually code each iteration)."
      ]
    },
    {
      "cell_type": "code",
      "metadata": {
        "id": "TbUtTgusUGfl",
        "colab": {
          "base_uri": "https://localhost:8080/",
          "height": 870
        },
        "outputId": "63d769a8-af5f-43f1-e6ad-965433d67129"
      },
      "source": [
        "num_neighbors = [1, 2, 3, 5, 10, 20, 50, 100]\n",
        "for i in num_neighbors:\n",
        "  # k-Nearest Neighbors algorithm\n",
        "  print(\"n_neighbors:\", i)\n",
        "  knn_model = KNeighborsClassifier(n_neighbors = i)\n",
        "  knn_model.fit(x_process_train, y_process_train)\n",
        "  knn_prediction = knn_model.predict(x_process_test)\n",
        "  knn_real = knn_model.predict_proba(x_process_test)\n",
        "  print(\"Accuracy:\", metrics.homogeneity_score(y_process_test, knn_prediction))\n",
        "  print(\"Completeness:\", metrics.completeness_score(y_process_test, knn_prediction))\n",
        "  print(\"V Measure:\", metrics.v_measure_score(y_process_test, knn_prediction))\n",
        "  print(\"Adj Rand:\", metrics.adjusted_rand_score(y_process_test, knn_prediction))\n",
        "  print(\"Adj Mutual:\", metrics.adjusted_mutual_info_score(y_process_test, knn_prediction))"
      ],
      "execution_count": null,
      "outputs": [
        {
          "output_type": "stream",
          "text": [
            "n_neighbors: 1\n",
            "Accuracy: 0.17792411581643294\n",
            "Completeness: 0.17943232997088118\n",
            "V Measure: 0.17867504020314945\n",
            "Adj Rand: 0.21467519642780475\n",
            "Adj Mutual: 0.17195522785540418\n",
            "n_neighbors: 2\n",
            "Accuracy: 0.20208392659002306\n",
            "Completeness: 0.2068824956341954\n",
            "V Measure: 0.20445505933286726\n",
            "Adj Rand: 0.2587524710397363\n",
            "Adj Mutual: 0.19789375612667137\n",
            "n_neighbors: 3\n",
            "Accuracy: 0.17050394636107113\n",
            "Completeness: 0.17026595876185316\n",
            "V Measure: 0.17038486945832346\n",
            "Adj Rand: 0.21458864414809636\n",
            "Adj Mutual: 0.16363294278926674\n",
            "n_neighbors: 5\n",
            "Accuracy: 0.20100293100959304\n",
            "Completeness: 0.20100293100959304\n",
            "V Measure: 0.20100293100959304\n",
            "Adj Rand: 0.2585599086256054\n",
            "Adj Mutual: 0.19449531318408925\n",
            "n_neighbors: 10\n",
            "Accuracy: 0.28094946431696816\n",
            "Completeness: 0.28233267279666796\n",
            "V Measure: 0.2816393702376524\n",
            "Adj Rand: 0.3582354435543025\n",
            "Adj Mutual: 0.27577307936545153\n",
            "n_neighbors: 20\n",
            "Accuracy: 0.2594860661141867\n",
            "Completeness: 0.26168565865395954\n",
            "V Measure: 0.260581220720768\n",
            "Adj Rand: 0.3318878536773861\n",
            "Adj Mutual: 0.2545315379686643\n",
            "n_neighbors: 50\n",
            "Accuracy: 0.24131235728471662\n",
            "Completeness: 0.2470424221502509\n",
            "V Measure: 0.24414377312894414\n",
            "Adj Rand: 0.3066063958342724\n",
            "Adj Mutual: 0.23790980490003016\n",
            "n_neighbors: 100\n",
            "Accuracy: 0.19174960675576402\n",
            "Completeness: 0.20451669084807222\n",
            "V Measure: 0.19792748100073784\n",
            "Adj Rand: 0.23662085853066875\n",
            "Adj Mutual: 0.19116755760366277\n"
          ],
          "name": "stdout"
        }
      ]
    },
    {
      "cell_type": "markdown",
      "metadata": {
        "id": "Ew5It5vaUGfo"
      },
      "source": [
        "Our most optimal neighbor count, pushing V and Accuracy scores to their maximum posssible value, is 10. with an accuracy of .281 and v measurement of .282."
      ]
    },
    {
      "cell_type": "markdown",
      "metadata": {
        "id": "bzu6gGmWUGfr"
      },
      "source": [
        "### Question 3.3.5 When are clustering algorithms most effective, and what do you think  explains the comparative results we achieved?  "
      ]
    },
    {
      "cell_type": "markdown",
      "metadata": {
        "id": "2Q3m9QwBUGfs"
      },
      "source": [
        "Clustering algorithms are typically less suited for classification problems like the one presented in project 2 and more suited towards unlabeled  (unsupervised) problems as clustering is more suited towards establishing similarities between data points before label assignment. \n",
        "\n",
        "The reason for the results we achieved, assuming comparative refers to how horribly KNN performed when compared to logistic regression and SVM is because of the core differences between clustering and classification models. Classification models (which are supervised) benefit and ultimately rely on the fact that labeled datasets are used, enabling the maximum possible accuracy in prediction of a trained model. With clustering, training/testing is not as valued because the clustering model depends more on finding pre-existing similarities between inputs before creating outputs to respond to these similiarities.\n"
      ]
    }
  ]
}