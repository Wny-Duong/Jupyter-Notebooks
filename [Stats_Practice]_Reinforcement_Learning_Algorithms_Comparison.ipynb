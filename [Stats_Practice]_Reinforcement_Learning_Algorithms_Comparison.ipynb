{
  "nbformat": 4,
  "nbformat_minor": 0,
  "metadata": {
    "colab": {
      "name": "[Stats Practice] Reinforcement Learning Algorithms Comparison",
      "provenance": [],
      "collapsed_sections": []
    },
    "kernelspec": {
      "name": "python3",
      "display_name": "Python 3"
    }
  },
  "cells": [
    {
      "cell_type": "code",
      "metadata": {
        "id": "2sOCRLVTFS-k",
        "colab": {
          "base_uri": "https://localhost:8080/",
          "height": 317
        },
        "outputId": "18922c20-d5d1-421f-95c9-a9609a4dcf9d"
      },
      "source": [
        "import numpy as np\n",
        "import matplotlib.pyplot as plt\n",
        "\n",
        "def getSamplar():\n",
        "    mu=np.random.normal(0,10)\n",
        "    sd=abs(np.random.normal(5,2))\n",
        "    getSample=lambda: np.random.normal(mu,sd)\n",
        "    return getSample\n",
        "\n",
        "def e_greedy(Q, e):\n",
        "##################################################\n",
        "#\t\tYour code here\n",
        "##################################################  \n",
        "    #Q is dictionary in form (possible actions: average reward of action)\n",
        "    #e is a 0-1 scalar; Return action selected from Q based on reward and epsilon\n",
        "    #Run a probability weighed between the Q greedy (highest reward) action and a random action\n",
        "    #from the epsilon random value.\n",
        "    action_dict = Q\n",
        "    #Get probabilities for action choices\n",
        "    \n",
        "    #random_choice_probability = (e/(len(action_dict) - 1)) \n",
        "    random_choice_probability = (e/(len(action_dict))) \n",
        "    greedy_choice_probability = 1 - e + random_choice_probability\n",
        "    #Initialize index and values\n",
        "    #optimal_action_index = -1\n",
        "    optimal_action_value = max(action_dict.values())\n",
        "    #for i in action_dict:\n",
        "    #  if (action_dict[i] > optimal_action_value):\n",
        "    #        optimal_action_value = action_dict[i]\n",
        "    #        #optimal_action_index = i\n",
        "    \n",
        "    #prob dictionary creation\n",
        "    actions = list(action_dict.keys())\n",
        "    probs = []\n",
        "    #Creation of a new dictionary matching actions to probability\n",
        "    for i in action_dict:\n",
        "      if(action_dict[i] == optimal_action_value):\n",
        "          #pre_prob_dict[i] = greedy_choice_probability\n",
        "          probs.append(greedy_choice_probability)\n",
        "      else:\n",
        "        probs.append(random_choice_probability)\n",
        "          #pre_prob_dict[i] = random_choice_probability\n",
        "    probs = np.array(probs)\n",
        "    probs /= sum(probs)\n",
        "    #actions = list(pre_prob_dict.keys())\n",
        "    #probs = list(pre_prob_dict.values())\n",
        "    choice = np.random.choice(actions, 1, replace=True, p=probs)\n",
        "    return choice.item()\n",
        "\n",
        "    \n",
        "def upperConfidenceBound(Q, N, c):   \n",
        "##################################################\n",
        "#\t\tYour code here\n",
        "##################################################  \n",
        "    #Q dictionary (possible action: average reward of action)\n",
        "    ##N dictionary (possible action: number of times action was taken)\n",
        "    #C is some scalar\n",
        "    #Return an action of Q based on algorithm\n",
        "    # #Q is dictionary in form (possible actions: average reward of action)\n",
        "    action_dict = Q\n",
        "    frequency_dict = N\n",
        "    maximized_expression_value = 0\n",
        "    choice = 0\n",
        "    uc_dict = {}\n",
        "    for action in action_dict:\n",
        "      #if ((action_dict[action] + c * np.sqrt(np.log(sum(frequency_dict.values()) + 1)/(frequency_dict[action]))) > maximized_expression_value):\n",
        "      uc_dict[action] = action_dict[action] + c*np.sqrt(np.log(sum(frequency_dict.values()) + 1)/(frequency_dict[action] + 1))\n",
        "      #choice = action\n",
        "    choice = max(uc_dict, key = uc_dict.get)\n",
        "    return choice\n",
        "\n",
        "\n",
        "def updateQN(action, reward, Q, N):\n",
        "##################################################\n",
        "#\t\tYour code here\n",
        "##################################################  \n",
        "    #Action = action from Q key taken\n",
        "    #Reward =  rewal reward retrieved, Q and N are inherite (possible action: number of times action was taken).\n",
        "    #Return a tuple of updated Q and N.\n",
        "    qCopy = Q\n",
        "    nCopy = N\n",
        "    updatedQ = {}\n",
        "    updatedN = {}\n",
        "    #updating number of actions\n",
        "    #\n",
        "    #qCopy[action] = ((qCopy[action] * (nCopy[action] - 1)) + reward)/nCopy[action]\n",
        "    for new_action in N:\n",
        "      if (new_action == action):\n",
        "        #if (qCopy[new_action] != 0):\n",
        "        updatedN[new_action] = N[new_action] + 1\n",
        "      else:\n",
        "        updatedN[new_action] = N[new_action] \n",
        "\n",
        "    for new_action in Q:\n",
        "      if (new_action == action):\n",
        "        #if (qCopy[new_action] != 0):\n",
        "        updatedQ[new_action] = (((Q[new_action] * (updatedN[new_action] - 1)) + reward) / updatedN[new_action])\n",
        "      else:\n",
        "        updatedQ[new_action] = Q[new_action]\n",
        "\n",
        "    tuple_qn = (updatedQ, updatedN)\n",
        "    return tuple_qn\n",
        "\n",
        "\n",
        "def decideMultipleSteps(Q, N, policy, bandit, maxSteps):\n",
        "##################################################\n",
        "#\t\tYour code here\n",
        "##################################################  \n",
        "    #Q and N are inherited from other\n",
        "    #Policy likely  reflects choice of formula (using greedy or ucb)\n",
        "    #Bandit is a function generating reward of action, based on getSampler\n",
        "    #Policy and bandit are essentially just lambda functions running our helper\n",
        "    #MaxSteps follows some iteration rule\n",
        "    #A scalar showing how many steps you have\n",
        "    #dictionaryOfDictionaries\n",
        "    #update Q qand N\n",
        "    #generic\n",
        "    action_taken = policy(Q, N)\n",
        "    bandit_value = bandit(action_taken)\n",
        "    updatedQN = updateQN(action_taken, bandit_value, Q, N)\n",
        "    action_reward = []\n",
        "    stepCount_Iterative = list(range(maxSteps - 1)) \n",
        "    #Multiple steps are used to tie a policy value\n",
        "    for i in stepCount_Iterative:\n",
        "      updatedQN = updateQN(action_taken, bandit_value, updatedQN[0], updatedQN[1])\n",
        "      action_reward_entry = (action_taken, bandit_value)\n",
        "      action_reward.append(action_reward_entry)\n",
        "      iterative_Q = updatedQN[0]\n",
        "      #print(iterative_Q)\n",
        "      iterative_N = updatedQN[1]\n",
        "      #print(iterative_N)\n",
        "      action_taken = policy(iterative_Q,iterative_N)\n",
        "      bandit_value = bandit(action_taken)\n",
        "    \n",
        "    #how does policy and bandit work, am I supposed to store their values?\n",
        "    actionReward = action_reward\n",
        "    stepsDict = {}\n",
        "    stepsDict[\"Q\"] = iterative_Q\n",
        "    stepsDict[\"N\"] = iterative_N\n",
        "    stepsDict[\"actionReward\"] =action_reward\n",
        "    return  stepsDict\n",
        "    #a dictionary containing “Q”, “N”, and “actionReward”. The Q and N are updated Q and N. ActionReward is a list that records your action and reward of\n",
        "    #each step. It contains the tuples (action, reward).\n",
        "\n",
        "\n",
        "def plotMeanReward(actionReward,label):\n",
        "    maxSteps=len(actionReward)\n",
        "    reward=[reward for (action,reward) in actionReward]\n",
        "    meanReward=[sum(reward[:(i+1)])/(i+1) for i in range(maxSteps)]\n",
        "    plt.plot(range(maxSteps), meanReward, linewidth=0.9, label=label)\n",
        "    plt.xlabel('Steps')\n",
        "    plt.ylabel('Average Reward')\n",
        "\n",
        "def main():\n",
        "    np.random.seed(2020)\n",
        "    K=10\n",
        "    maxSteps=1000\n",
        "    Q={k:0 for k in range(K)}\n",
        "    N={k:0 for k in range(K)}\n",
        "    testBed={k:getSamplar() for k in range(K)}\n",
        "    bandit=lambda action: testBed[action]()\n",
        "    \n",
        "    policies={}\n",
        "    policies[\"e-greedy-0.5\"]=lambda Q, N: e_greedy(Q, 0.5)\n",
        "    policies[\"e-greedy-0.1\"]=lambda Q, N: e_greedy(Q, 0.1)\n",
        "    policies[\"UCB-2\"]=lambda Q, N: upperConfidenceBound(Q, N, 2)\n",
        "    policies[\"UCB-20\"]=lambda Q, N: upperConfidenceBound(Q, N, 20)\n",
        "    \n",
        "    allResults = {name: decideMultipleSteps(Q, N, policy, bandit, maxSteps) for (name, policy) in policies.items()}\n",
        "    \n",
        "    for name, result in allResults.items():\n",
        "         plotMeanReward(allResults[name]['actionReward'], label=name)\n",
        "    plt.legend(bbox_to_anchor=(0., 1.02, 1., .102), loc='lower left',ncol=2, mode=\"expand\", borderaxespad=0.)\n",
        "    plt.show()\n",
        "    \n",
        "\n",
        "\n",
        "if __name__=='__main__':\n",
        "    main()\n"
      ],
      "execution_count": null,
      "outputs": [
        {
          "output_type": "display_data",
          "data": {
            "image/png": "[encoded data removed]",
            "text/plain": [
              "<Figure size 432x288 with 1 Axes>"
            ]
          },
          "metadata": {
            "tags": []
          }
        }
      ]
    },
    {
      "cell_type": "code",
      "metadata": {
        "id": "vrJ8_5F-a3NY"
      },
      "source": [
        ""
      ],
      "execution_count": null,
      "outputs": []
    },
    {
      "cell_type": "code",
      "metadata": {
        "id": "_dpUvW76Gs2Q"
      },
      "source": [
        "def getSamplar():\n",
        "    mu=np.random.normal(0,10)\n",
        "    sd=abs(np.random.normal(5,2))\n",
        "    getSample=lambda: np.random.normal(mu,sd)\n",
        "    #return getSample()\n",
        "    return getSample"
      ],
      "execution_count": null,
      "outputs": []
    },
    {
      "cell_type": "code",
      "metadata": {
        "id": "rctAonTWWPGu",
        "colab": {
          "base_uri": "https://localhost:8080/",
          "height": 68
        },
        "outputId": "5f8b2afc-4694-4df9-b9a8-e08e2f17626f"
      },
      "source": [
        "    mu=np.random.normal(0,10)\n",
        "    sd=abs(np.random.normal(5,2))\n",
        "    getSample=lambda: np.random.normal(mu,sd)\n",
        "    print(mu)\n",
        "    print(sd)\n",
        "    getSample()"
      ],
      "execution_count": null,
      "outputs": [
        {
          "output_type": "stream",
          "text": [
            "-4.521334172143789\n",
            "7.688106969368345\n"
          ],
          "name": "stdout"
        },
        {
          "output_type": "execute_result",
          "data": {
            "text/plain": [
              "-12.960227127436173"
            ]
          },
          "metadata": {
            "tags": []
          },
          "execution_count": 53
        }
      ]
    },
    {
      "cell_type": "code",
      "metadata": {
        "id": "dY1jCi0rF5JX",
        "colab": {
          "base_uri": "https://localhost:8080/",
          "height": 34
        },
        "outputId": "43318511-d545-4d49-b4f1-a6432dadaef1"
      },
      "source": [
        "    np.random.seed(2020)\n",
        "    K=10\n",
        "    maxSteps=1000\n",
        "    Q={k:0 for k in range(K)}\n",
        "    N={k:0 for k in range(K)}\n",
        "\n",
        "    probs = {}\n",
        "    probs[0] = 3\n",
        "    probs\n",
        "  "
      ],
      "execution_count": null,
      "outputs": [
        {
          "output_type": "execute_result",
          "data": {
            "text/plain": [
              "{0: 3}"
            ]
          },
          "metadata": {
            "tags": []
          },
          "execution_count": 54
        }
      ]
    },
    {
      "cell_type": "code",
      "metadata": {
        "id": "8Ia05rnYFi-6"
      },
      "source": [
        "def e_greedy(Q, e):\n",
        "##################################################\n",
        "#\t\tYour code here\n",
        "##################################################  \n",
        "    #Q is dictionary in form (possible actions: average reward of action)\n",
        "    #e is a 0-1 scalar; Return action selected from Q based on reward and epsilon\n",
        "    #Run a probability weighed between the Q greedy (highest reward) action and a random action\n",
        "    #from the epsilon random value.\n",
        "    action_dict = Q\n",
        "    #Get probabilities for action choices\n",
        "    greedy_choice_probability = 1 - e\n",
        "    random_choice_probability = (e/(len(action_dict) - 1)) \n",
        "    #Initialize index and values\n",
        "    #optimal_action_index = -1\n",
        "    optimal_action_value = max(action_dict.values())\n",
        "    #for i in action_dict:\n",
        "    #  if (action_dict[i] > optimal_action_value):\n",
        "    #        optimal_action_value = action_dict[i]\n",
        "    #        #optimal_action_index = i\n",
        "    \n",
        "    #prob dictionary creation\n",
        "    actions = list(action_dict.keys())\n",
        "    probs = []\n",
        "    #Creation of a new dictionary matching actions to probability\n",
        "    for i in action_dict:\n",
        "      if(action_dict[i] == optimal_action_value):\n",
        "          #pre_prob_dict[i] = greedy_choice_probability\n",
        "          probs.append(greedy_choice_probability)\n",
        "      else:\n",
        "        probs.append(random_choice_probability)\n",
        "          #pre_prob_dict[i] = random_choice_probability\n",
        "    probs = np.array(probs)\n",
        "    probs /= sum(probs)\n",
        "    #actions = list(pre_prob_dict.keys())\n",
        "    #probs = list(pre_prob_dict.values())\n",
        "    choice = np.random.choice(actions, 1, replace=True, p=probs)\n",
        "    return choice.item()\n"
      ],
      "execution_count": null,
      "outputs": []
    },
    {
      "cell_type": "code",
      "metadata": {
        "id": "rQQ7MHgDO0U2",
        "colab": {
          "base_uri": "https://localhost:8080/",
          "height": 68
        },
        "outputId": "1b689104-e189-4aca-baf4-b838ae523673"
      },
      "source": [
        "    utilityTable={1:2000, 2:-500, 3:100, 4:1000, 5:0}\n",
        "    #print(Q)\n",
        "    e = .5\n",
        "    print(e_greedy(utilityTable, .5))\n",
        "    action_dict = utilityTable\n",
        "    #Get probabilities for action choices\n",
        "    greedy_choice_probability = 1 - e\n",
        "    random_choice_probability = (e/(len(action_dict) - 1)) \n",
        "    #Initialize index and values\n",
        "    #optimal_action_index = -1\n",
        "    optimal_action_value = max(action_dict.values())\n",
        "    #for i in action_dict:\n",
        "    #  if (action_dict[i] > optimal_action_value):\n",
        "    #        optimal_action_value = action_dict[i]\n",
        "    #        #optimal_action_index = i\n",
        "    \n",
        "    #prob dictionary creation\n",
        "    actions = list(action_dict.keys())\n",
        "    probs = {}\n",
        "    #Creation of a new dictionary matching actions to probability\n",
        "    for i in actions:\n",
        "      if(action_dict[i] == optimal_action_value):\n",
        "          #pre_prob_dict[i] = greedy_choice_probability\n",
        "          probs[i] = (greedy_choice_probability)\n",
        "      else:\n",
        "        probs[i] = (random_choice_probability)\n",
        "          #pre_prob_dict[i] = random_choice_probability\n",
        "        \n",
        "    print(probs)\n",
        "    choice = np.random.choice(actions, 1, replace=True, p=list(probs.values()))\n",
        "    sum(probs.values())"
      ],
      "execution_count": null,
      "outputs": [
        {
          "output_type": "stream",
          "text": [
            "5\n",
            "{1: 0.5, 2: 0.125, 3: 0.125, 4: 0.125, 5: 0.125}\n"
          ],
          "name": "stdout"
        },
        {
          "output_type": "execute_result",
          "data": {
            "text/plain": [
              "1.0"
            ]
          },
          "metadata": {
            "tags": []
          },
          "execution_count": 56
        }
      ]
    },
    {
      "cell_type": "code",
      "metadata": {
        "id": "2vpTNefZ8iE-",
        "colab": {
          "base_uri": "https://localhost:8080/",
          "height": 51
        },
        "outputId": "19a20ac4-ef6d-4a27-dd0e-38dd31594930"
      },
      "source": [
        "    utilityTable={1:2000, 2:-500, 3:100, 4:1000, 5:0}\n",
        "    print(min(utilityTable.values()))\n",
        "    optimal_action_index = 1\n",
        "    greedy_choice_probability = .85\n",
        "    random_choice_probability = .15/4\n",
        "\n",
        "    actions = list(utilityTable.keys())\n",
        "    probs = {}\n",
        "    #Creation of a new dictionary matching actions to probability\n",
        "    for i in actions:\n",
        "      if(i == optimal_action_index):\n",
        "          #pre_prob_dict[i] = greedy_choice_probability\n",
        "          probs[i] = (greedy_choice_probability)\n",
        "      else:\n",
        "        probs[i] = random_choice_probability\n",
        "          #pre_prob_dict[i] = random_choice_probability\n",
        "    \n",
        "    #actions = list(pre_prob_dict.keys())\n",
        "    #probs = list(pre_prob_dict.values())\n",
        "    print(probs)\n",
        "    choice = np.random.choice(actions, 1, replace=True, p=list(probs.values()))\n",
        "    "
      ],
      "execution_count": null,
      "outputs": [
        {
          "output_type": "stream",
          "text": [
            "-500\n",
            "{1: 0.85, 2: 0.0375, 3: 0.0375, 4: 0.0375, 5: 0.0375}\n"
          ],
          "name": "stdout"
        }
      ]
    },
    {
      "cell_type": "code",
      "metadata": {
        "id": "7n9r9ygVePI1",
        "colab": {
          "base_uri": "https://localhost:8080/",
          "height": 34
        },
        "outputId": "51bf8a16-0001-4233-86d8-782cf0cefe1e"
      },
      "source": [
        "    c = 2\n",
        "    action_dict = utilityTable\n",
        "    frequency_dict = otherTable\n",
        "    maximized_expression_value = 0\n",
        "    choice = 0\n",
        "    for action in action_dict:\n",
        "      if (action_dict[action] + c * np.sqrt((2*np.log(action)/(frequency_dict[action]))) > maximized_expression_value):\n",
        "        maximized_expression_value = action_dict[action] + c*np.sqrt(2*np.log(action)/frequency_dict[action] + 1)\n",
        "        choice = action\n",
        "    choice"
      ],
      "execution_count": null,
      "outputs": [
        {
          "output_type": "execute_result",
          "data": {
            "text/plain": [
              "1"
            ]
          },
          "metadata": {
            "tags": []
          },
          "execution_count": 58
        }
      ]
    },
    {
      "cell_type": "code",
      "metadata": {
        "id": "rk8p2ebZFd0Q"
      },
      "source": [
        "def upperConfidenceBound(Q, N, c):   \n",
        "##################################################\n",
        "#\t\tYour code here\n",
        "##################################################  \n",
        "    #Q dictionary (possible action: average reward of action)\n",
        "    ##N dictionary (possible action: number of times action was taken)\n",
        "    #C is some scalar\n",
        "    #Return an action of Q based on algorithm\n",
        "    # #Q is dictionary in form (possible actions: average reward of action)\n",
        "    action_dict = Q\n",
        "    frequency_dict = N\n",
        "    maximized_expression_value = 0\n",
        "    choice = 0\n",
        "    uc_dict = {}\n",
        "    for action in action_dict:\n",
        "      #if ((action_dict[action] + c * np.sqrt(np.log(sum(frequency_dict.values()) + 1)/(frequency_dict[action]))) > maximized_expression_value):\n",
        "      uc_dict[action] = action_dict[action] + c*np.sqrt(np.log(sum(frequency_dict.values()) + 1)/(frequency_dict[action] + 1))\n",
        "      #choice = action\n",
        "    choice = max(uc_dict, key = uc_dict.get)\n",
        "    return choice\n"
      ],
      "execution_count": null,
      "outputs": []
    },
    {
      "cell_type": "code",
      "metadata": {
        "id": "LukTm9oPFeBL"
      },
      "source": [
        "def updateQN(action, reward, Q, N):\n",
        "##################################################\n",
        "#\t\tYour code here\n",
        "##################################################  \n",
        "    #Action = action from Q key taken\n",
        "    #Reward =  rewal reward retrieved, Q and N are inherite (possible action: number of times action was taken).\n",
        "    #Return a tuple of updated Q and N.\n",
        "    qCopy = Q\n",
        "    nCopy = N\n",
        "    updatedQ = {}\n",
        "    updatedN = {}\n",
        "    #updating number of actions\n",
        "    #\n",
        "    #qCopy[action] = ((qCopy[action] * (nCopy[action] - 1)) + reward)/nCopy[action]\n",
        "    for new_action in N:\n",
        "      if (new_action == action):\n",
        "        #if (qCopy[new_action] != 0):\n",
        "        updatedN[new_action] = N[new_action] + 1\n",
        "      else:\n",
        "        updatedN[new_action] = N[new_action] \n",
        "\n",
        "    for new_action in Q:\n",
        "      if (new_action == action):\n",
        "        #if (qCopy[new_action] != 0):\n",
        "        updatedQ[new_action] = (((Q[new_action] * (updatedN[new_action] - 1)) + reward) / updatedN[new_action])\n",
        "      else:\n",
        "        updatedQ[new_action] = Q[new_action]\n",
        "\n",
        "    \n",
        "\n",
        "        #N is to be updated when Action is taken, increasing the times taken\n",
        "        #Q is affected by the average reward? Makes sense, action is taken and a new value was generated\n",
        "        #Take the average as a result.\n",
        "    \n",
        "    tuple_qn = (updatedQ, updatedN)\n",
        "    return tuple_qn\n"
      ],
      "execution_count": null,
      "outputs": []
    },
    {
      "cell_type": "code",
      "metadata": {
        "id": "ksZ5M1DDdF98",
        "colab": {
          "base_uri": "https://localhost:8080/",
          "height": 68
        },
        "outputId": "5df29ad9-483a-43dd-849c-d1d46e88e1a7"
      },
      "source": [
        "    utilityTable={1:2000, 2:-500, 3:100, 4:1000, 5:0}\n",
        "    otherTable={1:5, 2:12, 3:5, 4:20, 5:24}\n",
        " \n",
        "    print(upperConfidenceBound(utilityTable, otherTable, 2))\n",
        "    print(utilityTable)\n",
        "    print(otherTable)\n",
        "    "
      ],
      "execution_count": null,
      "outputs": [
        {
          "output_type": "stream",
          "text": [
            "1\n",
            "{1: 2000, 2: -500, 3: 100, 4: 1000, 5: 0}\n",
            "{1: 5, 2: 12, 3: 5, 4: 20, 5: 24}\n"
          ],
          "name": "stdout"
        }
      ]
    },
    {
      "cell_type": "code",
      "metadata": {
        "id": "fzBC_NaoFZus"
      },
      "source": [
        "def decideMultipleSteps(Q, N, policy, bandit, maxSteps):\n",
        "##################################################\n",
        "#\t\tYour code here\n",
        "##################################################  \n",
        "    #Q and N are inherited from other\n",
        "    #Policy likely  reflects choice of formula (using greedy or ucb)\n",
        "    #Bandit is a function generating reward of action, based on getSampler\n",
        "    #Policy and bandit are essentially just lambda functions running our helper\n",
        "    #MaxSteps follows some iteration rule\n",
        "    #A scalar showing how many steps you have\n",
        "    #dictionaryOfDictionaries\n",
        "    #update Q qand N\n",
        "    #generic\n",
        "    action_taken = policy(Q, N)\n",
        "    bandit_value = bandit(action_taken)\n",
        "    updatedQN = updateQN(action_taken, bandit_value, Q, N)\n",
        "    action_reward = []\n",
        "    stepCount_Iterative = list(range(maxSteps - 1)) \n",
        "    #Multiple steps are used to tie a policy value\n",
        "    for i in stepCount_Iterative:\n",
        "      updatedQN = updateQN(action_taken, bandit_value, updatedQN[0], updatedQN[1])\n",
        "      action_reward_entry = (action_taken, bandit_value)\n",
        "      action_reward.append(action_reward_entry)\n",
        "      iterative_Q = updatedQN[0]\n",
        "      #print(iterative_Q)\n",
        "      iterative_N = updatedQN[1]\n",
        "      #print(iterative_N)\n",
        "      action_taken = policy(iterative_Q,iterative_N)\n",
        "      bandit_value = bandit(action_taken)\n",
        "    \n",
        "    #how does policy and bandit work, am I supposed to store their values?\n",
        "    actionReward = action_reward\n",
        "    stepsDict = {}\n",
        "    stepsDict[\"Q\"] = iterative_Q\n",
        "    stepsDict[\"N\"] = iterative_N\n",
        "    stepsDict[\"actionReward\"] =action_reward\n",
        "    return  stepsDict\n",
        "    #a dictionary containing “Q”, “N”, and “actionReward”. The Q and N are updated Q and N. ActionReward is a list that records your action and reward of\n",
        "    #each step. It contains the tuples (action, reward).\n"
      ],
      "execution_count": null,
      "outputs": []
    },
    {
      "cell_type": "code",
      "metadata": {
        "id": "Zp8HbZwcFZ4w"
      },
      "source": [
        "def plotMeanReward(actionReward,label):\n",
        "    maxSteps=len(actionReward)\n",
        "    reward=[reward for (action,reward) in actionReward]\n",
        "    meanReward=[sum(reward[:(i+1)])/(i+1) for i in range(maxSteps)]\n",
        "    plt.plot(range(maxSteps), meanReward, linewidth=0.9, label=label)\n",
        "    plt.xlabel('Steps')\n",
        "    plt.ylabel('Average Reward')"
      ],
      "execution_count": null,
      "outputs": []
    },
    {
      "cell_type": "code",
      "metadata": {
        "id": "13yarxcl4n44",
        "colab": {
          "base_uri": "https://localhost:8080/",
          "height": 34
        },
        "outputId": "42cf0b7b-3e97-4c29-cb03-5f934072a5e6"
      },
      "source": [
        "    np.random.seed(2020)\n",
        "    K=10\n",
        "    testBed={k:getSamplar() for k in range(K)}\n",
        "    testBed\n",
        "    bandit=lambda action: testBed[action]()\n",
        "    bandit(1)"
      ],
      "execution_count": null,
      "outputs": [
        {
          "output_type": "execute_result",
          "data": {
            "text/plain": [
              "-3.5793533556053108"
            ]
          },
          "metadata": {
            "tags": []
          },
          "execution_count": 64
        }
      ]
    },
    {
      "cell_type": "code",
      "metadata": {
        "id": "NJo5RQNeT5sC",
        "colab": {
          "base_uri": "https://localhost:8080/",
          "height": 34
        },
        "outputId": "bd6a3a6c-fbd8-489f-fa1f-d960ea4e5dbd"
      },
      "source": [
        "K = 10\n",
        "Q={k:0 for k in range(K)}\n",
        "N={k:0 for k in range(K)}\n",
        "print(Q)"
      ],
      "execution_count": null,
      "outputs": [
        {
          "output_type": "stream",
          "text": [
            "{0: 0, 1: 0, 2: 0, 3: 0, 4: 0, 5: 0, 6: 0, 7: 0, 8: 0, 9: 0}\n"
          ],
          "name": "stdout"
        }
      ]
    },
    {
      "cell_type": "code",
      "metadata": {
        "id": "ESqW_u3NFWE0",
        "colab": {
          "base_uri": "https://localhost:8080/",
          "height": 317
        },
        "outputId": "a25b80a4-34ea-4add-e434-b0b593e6e819"
      },
      "source": [
        "def main():\n",
        "    np.random.seed(2020)\n",
        "    K=10\n",
        "    maxSteps=1000\n",
        "    Q={k:0 for k in range(K)}\n",
        "    N={k:0 for k in range(K)}\n",
        "    testBed={k:getSamplar() for k in range(K)}\n",
        "    bandit=lambda action: testBed[action]()\n",
        "    policies={}\n",
        "    policies[\"e-greedy-0.5\"]=lambda Q, N: e_greedy(Q, 0.5)\n",
        "    policies[\"e-greedy-0.1\"]=lambda Q, N: e_greedy(Q, 0.1)\n",
        "    policies[\"UCB-2\"]=lambda Q, N: upperConfidenceBound(Q, N, 2)\n",
        "    policies[\"UCB-20\"]=lambda Q, N: upperConfidenceBound(Q, N, 20)\n",
        "    \n",
        "    allResults = {name: decideMultipleSteps(Q, N, policy, bandit, maxSteps) for (name, policy) in policies.items()}\n",
        "    \n",
        "    for name, result in allResults.items():\n",
        "         plotMeanReward(allResults[name]['actionReward'], label=name)\n",
        "    plt.legend(bbox_to_anchor=(0., 1.02, 1., .102), loc='lower left',ncol=2, mode=\"expand\", borderaxespad=0.)\n",
        "    plt.show()\n",
        "    \n",
        "\n",
        "\n",
        "if __name__=='__main__':\n",
        "    main()"
      ],
      "execution_count": null,
      "outputs": [
        {
          "output_type": "display_data",
          "data": {
            "image/png": "[encoded data removed]",
            "text/plain": [
              "<Figure size 432x288 with 1 Axes>"
            ]
          },
          "metadata": {
            "tags": []
          }
        }
      ]
    }
  ]
}